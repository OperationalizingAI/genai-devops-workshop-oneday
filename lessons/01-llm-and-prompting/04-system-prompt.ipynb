{
 "cells": [
  {
   "cell_type": "markdown",
   "metadata": {},
   "source": [
    "# System prompt\n",
    "## Introduction\n",
    "So far, we've been sending the LLM our questions. That question is called a  *prompt*. \n",
    "\n",
    "People have found that more clever prompts have yielded results. This field of research is called *prompt engineering*.\n"
   ]
  },
  {
   "cell_type": "markdown",
   "metadata": {},
   "source": [
    "## Installation"
   ]
  },
  {
   "cell_type": "code",
   "execution_count": 1,
   "metadata": {},
   "outputs": [
    {
     "name": "stdout",
     "output_type": "stream",
     "text": [
      "Note: you may need to restart the kernel to use updated packages.\n"
     ]
    }
   ],
   "source": [
    "%pip install -q langchain langchain-openai"
   ]
  },
  {
   "cell_type": "markdown",
   "metadata": {},
   "source": [
    "## Structured prompts"
   ]
  },
  {
   "cell_type": "markdown",
   "metadata": {},
   "source": [
    "You are not limited to only sending one question. Usually you want to send a whole conversation.\n",
    "\n",
    "In a conversation there are different type of messages:\n",
    "- *System Message*: usually the first message to set the stage of the conversation\n",
    "- *AI Message*: something the llm replies back\n",
    "- *Human Message*: something a human would type\n",
    "\n",
    "This conversation is always send as a whole to the llm, the llm does not keep state.\n",
    "\n",
    "First, let's ask what the llm knows about *resilience*."
   ]
  },
  {
   "cell_type": "code",
   "execution_count": 2,
   "metadata": {},
   "outputs": [
    {
     "name": "stdout",
     "output_type": "stream",
     "text": [
      "Resilience is the ability to adapt to and recover from adversity, challenges, or stress. It involves maintaining mental and emotional well-being in the face of difficulties, setbacks, or trauma. Resilient individuals can bounce back from hardships, learn from their experiences, and often emerge stronger or more capable.\n",
      "\n",
      "Key aspects of resilience include:\n",
      "\n",
      "1. **Emotional Regulation**: The ability to manage one's emotions effectively, especially during stressful situations.\n",
      "2. **Optimism**: Maintaining a hopeful outlook and believing in the possibility of positive outcomes.\n",
      "3. **Problem-Solving Skills**: The capacity to identify solutions and take action in the face of challenges.\n",
      "4. **Social Support**: Building and relying on a network of friends, family, or colleagues for support and encouragement.\n",
      "5. **Self-Efficacy**: The belief in one's ability to influence events and outcomes in their life.\n",
      "\n",
      "Resilience can be developed and strengthened over time through experiences, coping strategies, and support systems. It plays a crucial role in mental health and overall well-being.\n"
     ]
    }
   ],
   "source": [
    "from langchain_openai import ChatOpenAI\n",
    "\n",
    "chat = ChatOpenAI(model=\"gpt-4o-mini\",temperature=0)\n",
    "prompt = \"What is resilience ?\"\n",
    "answer = chat.invoke(prompt)\n",
    "print(answer.content)"
   ]
  },
  {
   "cell_type": "markdown",
   "metadata": {},
   "source": [
    "In the following example, by setting the system message, we indicate that the llm should be an expert at DevOps."
   ]
  },
  {
   "cell_type": "code",
   "execution_count": 3,
   "metadata": {},
   "outputs": [
    {
     "name": "stdout",
     "output_type": "stream",
     "text": [
      "Resilience in the context of DevOps refers to the ability of a system to withstand and recover from disruptions or failures. A resilient system is designed to continue functioning even when faced with unexpected events, such as hardware failures, network outages, or software bugs. Resilience is achieved through practices such as redundancy, monitoring, automated failover mechanisms, and quick recovery processes. By building resilience into your systems, you can minimize downtime, maintain performance, and ensure a positive user experience even in the face of challenges.\n"
     ]
    }
   ],
   "source": [
    "from langchain.schema import (\n",
    "    SystemMessage,\n",
    "    AIMessage,\n",
    "    HumanMessage\n",
    ")\n",
    "\n",
    "chat = ChatOpenAI()\n",
    "messages = [\n",
    "    SystemMessage(content=\"You are a helpful assistant that knows a lot about DevOps.\"),\n",
    "    AIMessage(content=\"Hello, how are you?\"),\n",
    "    HumanMessage(content=\"What is resilience ?\")\n",
    "]\n",
    "answer = chat.invoke(messages)\n",
    "print(answer.content)"
   ]
  },
  {
   "cell_type": "markdown",
   "metadata": {},
   "source": [
    "We see that the answer is a lot better because we *set the context* by setting the *system prompt*.\n",
    "\n",
    "You can also use this technique in Github Copilot and have it act as different roles to yield better results."
   ]
  }
 ],
 "metadata": {
  "kernelspec": {
   "display_name": "Python 3",
   "language": "python",
   "name": "python3"
  },
  "language_info": {
   "codemirror_mode": {
    "name": "ipython",
    "version": 3
   },
   "file_extension": ".py",
   "mimetype": "text/x-python",
   "name": "python",
   "nbconvert_exporter": "python",
   "pygments_lexer": "ipython3",
   "version": "3.12.5"
  },
  "orig_nbformat": 4
 },
 "nbformat": 4,
 "nbformat_minor": 2
}
