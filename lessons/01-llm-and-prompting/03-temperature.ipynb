{
 "cells": [
  {
   "cell_type": "markdown",
   "metadata": {},
   "source": [
    "# Model Temperature\n",
    "## Introduction\n",
    "We learned that LLM generates/completes the questions we send it.\n",
    "\n",
    "It turns out that when we ask it again , we might another answer.\n",
    "\n",
    "In this lesson we'll explore the concept of temperature a way to get more consistent answer."
   ]
  },
  {
   "cell_type": "markdown",
   "metadata": {},
   "source": [
    "## Installation"
   ]
  },
  {
   "cell_type": "code",
   "execution_count": 1,
   "metadata": {},
   "outputs": [
    {
     "name": "stdout",
     "output_type": "stream",
     "text": [
      "Note: you may need to restart the kernel to use updated packages.\n"
     ]
    }
   ],
   "source": [
    "%pip install -q langchain langchain-openai"
   ]
  },
  {
   "cell_type": "markdown",
   "metadata": {},
   "source": [
    "## Same question , different results\n",
    "Let's try the following example a few times and look at the output."
   ]
  },
  {
   "cell_type": "code",
   "execution_count": 2,
   "metadata": {},
   "outputs": [
    {
     "name": "stdout",
     "output_type": "stream",
     "text": [
      "A1:\n",
      "\n",
      "Ghent is a city located in the Flemish Region of Belgium. It is situated in the northwestern part of the country, about 56 kilometers (35 miles) northwest of Brussels. It is also located about 55 kilometers (34 miles) southwest of Antwerp and 72 kilometers (45 miles) southeast of Bruges. \n",
      "A2:\n",
      "\n",
      "Ghent is a city located in the Flemish region of Belgium. It is located in the northwest part of the country, approximately 30 miles west of Brussels.\n",
      "A3:\n",
      "\n",
      "Ghent is a city in Belgium located in the Flemish Region in the northwest part of the country. It is situated about 55 kilometers (34 miles) northwest of Brussels, the capital of Belgium. \n",
      "A4:\n",
      "\n",
      "Ghent is located in the Flanders region of Belgium, approximately 30 miles northwest of Brussels.\n",
      "A5:\n",
      "\n",
      "Ghent is a city located in the Flemish region of Belgium. It is situated in the northwest part of the country, approximately 30 miles (48 kilometers) northwest of Brussels. Ghent is the capital and largest city of the East Flanders province. \n"
     ]
    }
   ],
   "source": [
    "from langchain_openai import OpenAI\n",
    "llm = OpenAI()\n",
    "question = \"Where is Ghent?\"\n",
    "for i in range(1,6):\n",
    "    answer = llm.invoke(question)\n",
    "    print(f\"A{i}:{answer}\")"
   ]
  },
  {
   "cell_type": "markdown",
   "metadata": {},
   "source": [
    "We see that for every call, the answer is different. This can be great if you want the llm to be creative, but we want a way to make it more repeatable.\n",
    "\n",
    "## Adding temperature\n",
    "If we want to make the llm output more more predictable we set the `temperature` option.\n",
    "\n",
    "The temperature parameter controls the randomness of the text generated and while a value of 0 ensures the least random or more deterministic responses, they will not necessarily be exactly the same."
   ]
  },
  {
   "cell_type": "code",
   "execution_count": 3,
   "metadata": {},
   "outputs": [
    {
     "name": "stdout",
     "output_type": "stream",
     "text": [
      "A1:\n",
      "\n",
      "Ghent is a city located in the Flemish Region of Belgium. It is situated in the northwest part of the country, approximately 30 miles (48 kilometers) northwest of Brussels.\n",
      "A2:\n",
      "\n",
      "Ghent is a city located in the Flemish Region of Belgium. It is situated in the northwest part of the country, approximately 30 miles (48 kilometers) northwest of Brussels.\n",
      "A3:\n",
      "\n",
      "Ghent is a city located in the Flemish Region of Belgium. It is situated in the northwest part of the country, approximately 30 miles (48 kilometers) northwest of Brussels.\n",
      "A4:\n",
      "\n",
      "Ghent is a city located in the Flemish Region of Belgium. It is situated in the northwest part of the country, approximately 30 miles (48 kilometers) northwest of Brussels.\n",
      "A5:\n",
      "\n",
      "Ghent is a city located in the Flemish Region of Belgium. It is situated in the northwest part of the country, approximately 30 miles (48 kilometers) northwest of Brussels.\n"
     ]
    }
   ],
   "source": [
    "llm = OpenAI(temperature=0)\n",
    "for i in range(1,6):\n",
    "    answer = llm.invoke(\"Where is Ghent?\")\n",
    "    print(f\"A{i}:{answer}\")"
   ]
  },
  {
   "cell_type": "markdown",
   "metadata": {},
   "source": [
    "Et voila , now it always retuns the same results."
   ]
  },
  {
   "cell_type": "markdown",
   "metadata": {},
   "source": [
    "## But it is not guaranteed\n",
    "You may have noticed that we used *OpenAI* instead of *ChatOpenAI*. In Langchain *OpenAI* is the older syntax and points to a text completion model and *ChatOpenAI* to a chat completion model. With OpenAI the input are strings and with ChatOpenAI the input is a sequence of messages.\n",
    "\n",
    "Most newer models tend to be Chat completion models. <https://python.langchain.com/v0.2/docs/concepts/#llms>"
   ]
  },
  {
   "cell_type": "markdown",
   "metadata": {},
   "source": [
    "Let's repeat this now for the `ChatOpenAI` model with `temperature=0`. You'll see it's not always giving the same results , even with temperature set. So it's not a 100% guarantee."
   ]
  },
  {
   "cell_type": "code",
   "execution_count": 4,
   "metadata": {},
   "outputs": [
    {
     "name": "stdout",
     "output_type": "stream",
     "text": [
      "A1:Ghent is a city located in the Flanders region of Belgium.\n",
      "A2:Ghent is located in Belgium, in the Flemish region of the country. It is the capital and largest city of the East Flanders province.\n",
      "A3:Ghent is located in Belgium, in the Flemish region. It is the capital and largest city of the East Flanders province.\n",
      "A4:Ghent is located in Belgium, in the Flemish region. It is the capital and largest city of the East Flanders province.\n",
      "A5:Ghent is a city located in the Flanders region of Belgium.\n"
     ]
    }
   ],
   "source": [
    "from langchain_openai import ChatOpenAI\n",
    "llm = ChatOpenAI(temperature=0)\n",
    "for i in range(1,6):\n",
    "    answer = llm.invoke(\"Where is Ghent?\")\n",
    "    print(f\"A{i}:{answer.content}\")"
   ]
  },
  {
   "cell_type": "markdown",
   "metadata": {},
   "source": [
    "## Different models give different behaviors\n",
    "By default `ChatOpenAI` uses the model `gpt-4o`. Let's see what happens if we use `gpt-4o-mini`. The results are more consistent."
   ]
  },
  {
   "cell_type": "code",
   "execution_count": 5,
   "metadata": {},
   "outputs": [
    {
     "name": "stdout",
     "output_type": "stream",
     "text": [
      "A1:Ghent is a city located in Belgium, specifically in the Flanders region. It is situated at the confluence of the Rivers Scheldt and Lys. Ghent is known for its rich history, medieval architecture, and vibrant cultural scene. It is one of the largest cities in Belgium and serves as the capital of the East Flanders province. The city is also famous for its university, which is one of the oldest and most prestigious in the country.\n",
      "A2:Ghent is a city located in Belgium, specifically in the Flanders region. It is situated at the confluence of the Rivers Scheldt and Lys, and is the capital of the East Flanders province. Ghent is known for its rich history, medieval architecture, and vibrant cultural scene. It is one of Belgium's major cities and is often recognized for its beautiful canals, historic buildings, and lively atmosphere.\n",
      "A3:Ghent is a city located in Belgium, specifically in the Flanders region. It is situated at the confluence of the Rivers Scheldt and Lys. Ghent is known for its rich history, medieval architecture, and vibrant cultural scene. It is one of the largest cities in Belgium and serves as the capital of the East Flanders province. The city is also famous for its university, which is one of the oldest and most prestigious in the country.\n",
      "A4:Ghent is a city located in Belgium, specifically in the Flanders region. It is situated at the confluence of the Rivers Scheldt and Lys. Ghent is known for its rich history, medieval architecture, and vibrant cultural scene. It is one of the largest cities in Belgium and serves as the capital of the East Flanders province. The city is also famous for its university, which is one of the oldest and most prestigious in the country.\n",
      "A5:Ghent is a city located in Belgium, specifically in the Flanders region. It is situated at the confluence of the Rivers Scheldt and Lys. Ghent is known for its rich history, medieval architecture, and vibrant cultural scene. It is one of the largest cities in Belgium and serves as the capital of the East Flanders province. The city is also famous for its university, which is one of the oldest and most prestigious in the country.\n"
     ]
    }
   ],
   "source": [
    "from langchain_openai import ChatOpenAI\n",
    "llm = ChatOpenAI(temperature=0,model=\"gpt-4o-mini\")\n",
    "for i in range(1,6):\n",
    "    answer = llm.invoke(\"Where is Ghent?\")\n",
    "    print(f\"A{i}:{answer.content}\")"
   ]
  },
  {
   "cell_type": "markdown",
   "metadata": {},
   "source": [
    "We've learned that temperature can help increase the determinism but it also not guaranteed."
   ]
  }
 ],
 "metadata": {
  "kernelspec": {
   "display_name": "Python 3",
   "language": "python",
   "name": "python3"
  },
  "language_info": {
   "codemirror_mode": {
    "name": "ipython",
    "version": 3
   },
   "file_extension": ".py",
   "mimetype": "text/x-python",
   "name": "python",
   "nbconvert_exporter": "python",
   "pygments_lexer": "ipython3",
   "version": "3.12.5"
  },
  "orig_nbformat": 4
 },
 "nbformat": 4,
 "nbformat_minor": 2
}
