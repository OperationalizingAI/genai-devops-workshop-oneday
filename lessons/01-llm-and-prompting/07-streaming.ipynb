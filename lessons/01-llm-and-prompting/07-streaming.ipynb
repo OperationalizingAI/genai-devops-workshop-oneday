{
 "cells": [
  {
   "cell_type": "markdown",
   "metadata": {},
   "source": [
    "# Streaming the answer\n",
    "## Introduction\n",
    "You might think that the LLM answers in one single answer. Most LLMs answer the completion in small parts. The small parts are often refered to as *tokens*.\n",
    "\n",
    "If you wait for the result, this can be slow. It's often useful to stream the results to the enduser as you get the results."
   ]
  },
  {
   "cell_type": "markdown",
   "metadata": {},
   "source": [
    "## Installation"
   ]
  },
  {
   "cell_type": "code",
   "execution_count": 1,
   "metadata": {},
   "outputs": [
    {
     "name": "stdout",
     "output_type": "stream",
     "text": [
      "Note: you may need to restart the kernel to use updated packages.\n"
     ]
    }
   ],
   "source": [
    "%pip install -q langchain langchain-openai"
   ]
  },
  {
   "cell_type": "markdown",
   "metadata": {},
   "source": [
    "## Enabling streaming in Langchain"
   ]
  },
  {
   "cell_type": "markdown",
   "metadata": {},
   "source": [
    "- We add the option `streaming=True` and use the async method `astream`.\n",
    "- We print out the results as we get them , seperated by '|' symbol"
   ]
  },
  {
   "cell_type": "code",
   "execution_count": 2,
   "metadata": {},
   "outputs": [
    {
     "name": "stdout",
     "output_type": "stream",
     "text": [
      "|Hello|!| I'm| an| AI| language|Hello|!| I'm| an| AI| language| model| created| by| Open|AI|,| designed| to| assist| with| a| wide| range| of| questions| and| topics|.| I| can| provide| information|,| answer| questions|,| help| with| writing|,| and| engage| in| conversation|.| My| knowledge| is| based| on| a| diverse| set| of| texts|,| and| I'm| here| to| help| you| with| whatever| you| need|.| What| would| you| like| to| know|?||"
     ]
    }
   ],
   "source": [
    "from langchain_openai import ChatOpenAI\n",
    "\n",
    "# Add streaming = True\n",
    "chat = ChatOpenAI(model=\"gpt-4o-mini\",streaming=True, temperature=0)\n",
    "\n",
    "# Now the results come in chunks\n",
    "chunks = []\n",
    "async for chunk in chat.astream(\"hello. tell me something about yourself\"):\n",
    "    chunks.append(chunk)\n",
    "    # We print out the chunk and add a delimiter '|' to seperate the next one\n",
    "    print(chunk.content, end=\"|\", flush=True)"
   ]
  }
 ],
 "metadata": {
  "kernelspec": {
   "display_name": "01-llm-and-prompting",
   "language": "python",
   "name": "01-llm-and-prompting"
  },
  "language_info": {
   "codemirror_mode": {
    "name": "ipython",
    "version": 3
   },
   "file_extension": ".py",
   "mimetype": "text/x-python",
   "name": "python",
   "nbconvert_exporter": "python",
   "pygments_lexer": "ipython3",
   "version": "3.12.5"
  },
  "orig_nbformat": 4
 },
 "nbformat": 4,
 "nbformat_minor": 2
}
