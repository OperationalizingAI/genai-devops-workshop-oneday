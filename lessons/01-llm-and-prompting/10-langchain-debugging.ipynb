{
 "cells": [
  {
   "cell_type": "markdown",
   "metadata": {},
   "source": [
    "# Debugging Langchain\n",
    "## Introduction"
   ]
  },
  {
   "cell_type": "markdown",
   "metadata": {},
   "source": [
    "Abstractions are great, but sometimes we want to see what goes on under the hood of langchain. \n",
    "Here's a few options:\n",
    "\n",
    "- https://python.langchain.com/docs/guides/debugging\n",
    "- https://python.langchain.com/docs/modules/chains/how_to/debugging"
   ]
  },
  {
   "cell_type": "markdown",
   "metadata": {},
   "source": [
    "## Installation"
   ]
  },
  {
   "cell_type": "code",
   "execution_count": 1,
   "metadata": {},
   "outputs": [
    {
     "name": "stdout",
     "output_type": "stream",
     "text": [
      "Note: you may need to restart the kernel to use updated packages.\n"
     ]
    }
   ],
   "source": [
    "%pip install -q langchain langchain-openai"
   ]
  },
  {
   "cell_type": "markdown",
   "metadata": {},
   "source": [
    "## Global debugging flag\n",
    "First option is to enable global debugging in Langchain.\n",
    "\n",
    "You can see , it shows a lot of the calls/events that go on internally."
   ]
  },
  {
   "cell_type": "code",
   "execution_count": 2,
   "metadata": {},
   "outputs": [
    {
     "name": "stdout",
     "output_type": "stream",
     "text": [
      "\u001b[32;1m\u001b[1;3m[llm/start]\u001b[0m \u001b[1m[llm:ChatOpenAI] Entering LLM run with input:\n",
      "\u001b[0m{\n",
      "  \"prompts\": [\n",
      "    \"Human: Where is Ghent ?\"\n",
      "  ]\n",
      "}\n",
      "\u001b[36;1m\u001b[1;3m[llm/end]\u001b[0m \u001b[1m[llm:ChatOpenAI] [2.26s] Exiting LLM run with output:\n",
      "\u001b[0m{\n",
      "  \"generations\": [\n",
      "    [\n",
      "      {\n",
      "        \"text\": \"Ghent is a city located in Belgium, situated in the Flanders region. It is the capital of the East Flanders province and is known for its rich history, medieval architecture, and vibrant cultural scene. Ghent is located at the confluence of the Rivers Scheldt and Lys, making it an important historical trade center. The city is also home to several notable landmarks, including the Gravensteen castle, St. Bavo's Cathedral, and the picturesque Graslei and Korenlei streets along the river.\",\n",
      "        \"generation_info\": {\n",
      "          \"finish_reason\": \"stop\",\n",
      "          \"logprobs\": null\n",
      "        },\n",
      "        \"type\": \"ChatGeneration\",\n",
      "        \"message\": {\n",
      "          \"lc\": 1,\n",
      "          \"type\": \"constructor\",\n",
      "          \"id\": [\n",
      "            \"langchain\",\n",
      "            \"schema\",\n",
      "            \"messages\",\n",
      "            \"AIMessage\"\n",
      "          ],\n",
      "          \"kwargs\": {\n",
      "            \"content\": \"Ghent is a city located in Belgium, situated in the Flanders region. It is the capital of the East Flanders province and is known for its rich history, medieval architecture, and vibrant cultural scene. Ghent is located at the confluence of the Rivers Scheldt and Lys, making it an important historical trade center. The city is also home to several notable landmarks, including the Gravensteen castle, St. Bavo's Cathedral, and the picturesque Graslei and Korenlei streets along the river.\",\n",
      "            \"additional_kwargs\": {\n",
      "              \"refusal\": null\n",
      "            },\n",
      "            \"response_metadata\": {\n",
      "              \"token_usage\": {\n",
      "                \"completion_tokens\": 104,\n",
      "                \"prompt_tokens\": 12,\n",
      "                \"total_tokens\": 116\n",
      "              },\n",
      "              \"model_name\": \"gpt-4o-mini-2024-07-18\",\n",
      "              \"system_fingerprint\": \"fp_483d39d857\",\n",
      "              \"finish_reason\": \"stop\",\n",
      "              \"logprobs\": null\n",
      "            },\n",
      "            \"type\": \"ai\",\n",
      "            \"id\": \"run-0493b259-0272-4646-a6bb-4fe8c0245c1d-0\",\n",
      "            \"usage_metadata\": {\n",
      "              \"input_tokens\": 12,\n",
      "              \"output_tokens\": 104,\n",
      "              \"total_tokens\": 116\n",
      "            },\n",
      "            \"tool_calls\": [],\n",
      "            \"invalid_tool_calls\": []\n",
      "          }\n",
      "        }\n",
      "      }\n",
      "    ]\n",
      "  ],\n",
      "  \"llm_output\": {\n",
      "    \"token_usage\": {\n",
      "      \"completion_tokens\": 104,\n",
      "      \"prompt_tokens\": 12,\n",
      "      \"total_tokens\": 116\n",
      "    },\n",
      "    \"model_name\": \"gpt-4o-mini-2024-07-18\",\n",
      "    \"system_fingerprint\": \"fp_483d39d857\"\n",
      "  },\n",
      "  \"run\": null\n",
      "}\n"
     ]
    }
   ],
   "source": [
    "import langchain\n",
    "from langchain_openai import ChatOpenAI\n",
    "\n",
    "# Enable global debugging\n",
    "langchain.debug = True\n",
    "\n",
    "llm = ChatOpenAI(model=\"gpt-4o-mini\",temperature=0)\n",
    "llm.invoke(\"Where is Ghent ?\")\n",
    "# Disable global debugging\n",
    "langchain.debug = False"
   ]
  },
  {
   "cell_type": "markdown",
   "metadata": {},
   "source": [
    "## Increase verbosity\n",
    "Second one is to tell providers or objects to be more verbose"
   ]
  },
  {
   "cell_type": "code",
   "execution_count": 3,
   "metadata": {},
   "outputs": [
    {
     "name": "stdout",
     "output_type": "stream",
     "text": [
      "Ghent is a city located in Belgium, specifically in the Flanders region. It is situated at the confluence of the Rivers Scheldt and Lys. Ghent is known for its rich history, medieval architecture, and vibrant cultural scene. It is one of the largest cities in Belgium and serves as the capital of the East Flanders province. The city is also famous for its university, which is one of the oldest and most prestigious in the country.\n"
     ]
    }
   ],
   "source": [
    "# Set verbose flag on objects\n",
    "llm = ChatOpenAI(model=\"gpt-4o-mini\",verbose=True, temperature=0)\n",
    "result = llm.invoke(\"Where is Ghent?\")\n",
    "print(result.content)"
   ]
  },
  {
   "cell_type": "markdown",
   "metadata": {},
   "source": [
    "Now without the verbose flag. As you can see , there is a not a lot of difference."
   ]
  },
  {
   "cell_type": "code",
   "execution_count": 4,
   "metadata": {},
   "outputs": [
    {
     "name": "stdout",
     "output_type": "stream",
     "text": [
      "Ghent is a city located in Belgium, specifically in the Flanders region. It is situated at the confluence of the Rivers Scheldt and Lys. Ghent is known for its rich history, medieval architecture, and vibrant cultural scene. It is one of the largest cities in Belgium and serves as the capital of the East Flanders province. The city is also famous for its university, which is one of the oldest and most prestigious in the country.\n"
     ]
    }
   ],
   "source": [
    "llm = ChatOpenAI(model=\"gpt-4o-mini\",verbose=False, temperature=0)\n",
    "result = llm.invoke(\"Where is Ghent?\")\n",
    "print(result.content)"
   ]
  },
  {
   "cell_type": "markdown",
   "metadata": {},
   "source": [
    "## Using callbacks\n",
    "A third useful way is to use callbacks to listen into objects events. We created our own helper in these lessons to listen to events."
   ]
  },
  {
   "cell_type": "code",
   "execution_count": 5,
   "metadata": {},
   "outputs": [
    {
     "name": "stdout",
     "output_type": "stream",
     "text": [
      "\u001b[32;1m\u001b[1;3m[llm/start]\u001b[0m \u001b[1m[llm:ChatOpenAI] Entering LLM run with input:\n",
      "\u001b[0m{\n",
      "  \"prompts\": [\n",
      "    \"Human: Where is Ghent?\"\n",
      "  ]\n",
      "}\n",
      "\u001b[36;1m\u001b[1;3m[llm/end]\u001b[0m \u001b[1m[llm:ChatOpenAI] [961ms] Exiting LLM run with output:\n",
      "\u001b[0m{\n",
      "  \"generations\": [\n",
      "    [\n",
      "      {\n",
      "        \"text\": \"Ghent is a city located in Belgium, specifically in the Flanders region. It is situated at the confluence of the Rivers Scheldt and Lys. Ghent is known for its rich history, medieval architecture, and vibrant cultural scene. It is one of the largest cities in Belgium and serves as the capital of the East Flanders province. The city is also famous for its university, which is one of the oldest and most prestigious in the country.\",\n",
      "        \"generation_info\": {\n",
      "          \"finish_reason\": \"stop\",\n",
      "          \"logprobs\": null\n",
      "        },\n",
      "        \"type\": \"ChatGeneration\",\n",
      "        \"message\": {\n",
      "          \"lc\": 1,\n",
      "          \"type\": \"constructor\",\n",
      "          \"id\": [\n",
      "            \"langchain\",\n",
      "            \"schema\",\n",
      "            \"messages\",\n",
      "            \"AIMessage\"\n",
      "          ],\n",
      "          \"kwargs\": {\n",
      "            \"content\": \"Ghent is a city located in Belgium, specifically in the Flanders region. It is situated at the confluence of the Rivers Scheldt and Lys. Ghent is known for its rich history, medieval architecture, and vibrant cultural scene. It is one of the largest cities in Belgium and serves as the capital of the East Flanders province. The city is also famous for its university, which is one of the oldest and most prestigious in the country.\",\n",
      "            \"additional_kwargs\": {\n",
      "              \"refusal\": null\n",
      "            },\n",
      "            \"response_metadata\": {\n",
      "              \"token_usage\": {\n",
      "                \"completion_tokens\": 91,\n",
      "                \"prompt_tokens\": 12,\n",
      "                \"total_tokens\": 103\n",
      "              },\n",
      "              \"model_name\": \"gpt-4o-mini-2024-07-18\",\n",
      "              \"system_fingerprint\": \"fp_483d39d857\",\n",
      "              \"finish_reason\": \"stop\",\n",
      "              \"logprobs\": null\n",
      "            },\n",
      "            \"type\": \"ai\",\n",
      "            \"id\": \"run-7da8dd24-2f40-4b7d-9494-3899fbb0ff0f-0\",\n",
      "            \"usage_metadata\": {\n",
      "              \"input_tokens\": 12,\n",
      "              \"output_tokens\": 91,\n",
      "              \"total_tokens\": 103\n",
      "            },\n",
      "            \"tool_calls\": [],\n",
      "            \"invalid_tool_calls\": []\n",
      "          }\n",
      "        }\n",
      "      }\n",
      "    ]\n",
      "  ],\n",
      "  \"llm_output\": {\n",
      "    \"token_usage\": {\n",
      "      \"completion_tokens\": 91,\n",
      "      \"prompt_tokens\": 12,\n",
      "      \"total_tokens\": 103\n",
      "    },\n",
      "    \"model_name\": \"gpt-4o-mini-2024-07-18\",\n",
      "    \"system_fingerprint\": \"fp_483d39d857\"\n",
      "  },\n",
      "  \"run\": null\n",
      "}\n",
      "Ghent is a city located in Belgium, specifically in the Flanders region. It is situated at the confluence of the Rivers Scheldt and Lys. Ghent is known for its rich history, medieval architecture, and vibrant cultural scene. It is one of the largest cities in Belgium and serves as the capital of the East Flanders province. The city is also famous for its university, which is one of the oldest and most prestigious in the country.\n"
     ]
    }
   ],
   "source": [
    "from langchain_core.tracers.stdout import ConsoleCallbackHandler\n",
    "\n",
    "# A console callback handler\n",
    "console_callback = ConsoleCallbackHandler()\n",
    "\n",
    "# Added to the model as callback option\n",
    "llm = ChatOpenAI(model=\"gpt-4o-mini\", temperature=0 , callbacks=[console_callback])\n",
    "\n",
    "result = llm.invoke(\"Where is Ghent?\")\n",
    "print(result.content)"
   ]
  },
  {
   "cell_type": "markdown",
   "metadata": {},
   "source": [
    "## Callback for LCEL syntax\n",
    "We also use the callback handler with the LCEL syntax"
   ]
  },
  {
   "cell_type": "code",
   "execution_count": 6,
   "metadata": {},
   "outputs": [
    {
     "name": "stdout",
     "output_type": "stream",
     "text": [
      "\u001b[32;1m\u001b[1;3m[chain/start]\u001b[0m \u001b[1m[chain:RunnableSequence] Entering Chain run with input:\n",
      "\u001b[0m{\n",
      "  \"topic\": \"ice cream\"\n",
      "}\n",
      "\u001b[32;1m\u001b[1;3m[chain/start]\u001b[0m \u001b[1m[chain:RunnableSequence > prompt:ChatPromptTemplate] Entering Prompt run with input:\n",
      "\u001b[0m{\n",
      "  \"topic\": \"ice cream\"\n",
      "}\n",
      "\u001b[36;1m\u001b[1;3m[chain/end]\u001b[0m \u001b[1m[chain:RunnableSequence > prompt:ChatPromptTemplate] [0ms] Exiting Prompt run with output:\n",
      "\u001b[0m[outputs]\n",
      "\u001b[32;1m\u001b[1;3m[llm/start]\u001b[0m \u001b[1m[chain:RunnableSequence > llm:ChatOpenAI] Entering LLM run with input:\n",
      "\u001b[0m{\n",
      "  \"prompts\": [\n",
      "    \"Human: tell me a joke about ice cream\"\n",
      "  ]\n",
      "}\n",
      "\u001b[36;1m\u001b[1;3m[llm/end]\u001b[0m \u001b[1m[chain:RunnableSequence > llm:ChatOpenAI] [686ms] Exiting LLM run with output:\n",
      "\u001b[0m{\n",
      "  \"generations\": [\n",
      "    [\n",
      "      {\n",
      "        \"text\": \"Why did the ice cream truck break down?\\n\\nBecause it had a rocky road!\",\n",
      "        \"generation_info\": {\n",
      "          \"finish_reason\": \"stop\",\n",
      "          \"logprobs\": null\n",
      "        },\n",
      "        \"type\": \"ChatGeneration\",\n",
      "        \"message\": {\n",
      "          \"lc\": 1,\n",
      "          \"type\": \"constructor\",\n",
      "          \"id\": [\n",
      "            \"langchain\",\n",
      "            \"schema\",\n",
      "            \"messages\",\n",
      "            \"AIMessage\"\n",
      "          ],\n",
      "          \"kwargs\": {\n",
      "            \"content\": \"Why did the ice cream truck break down?\\n\\nBecause it had a rocky road!\",\n",
      "            \"additional_kwargs\": {\n",
      "              \"refusal\": null\n",
      "            },\n",
      "            \"response_metadata\": {\n",
      "              \"token_usage\": {\n",
      "                \"completion_tokens\": 16,\n",
      "                \"prompt_tokens\": 14,\n",
      "                \"total_tokens\": 30\n",
      "              },\n",
      "              \"model_name\": \"gpt-4o-mini-2024-07-18\",\n",
      "              \"system_fingerprint\": \"fp_483d39d857\",\n",
      "              \"finish_reason\": \"stop\",\n",
      "              \"logprobs\": null\n",
      "            },\n",
      "            \"type\": \"ai\",\n",
      "            \"id\": \"run-f17bda58-81f2-498c-9615-441aad5c976c-0\",\n",
      "            \"usage_metadata\": {\n",
      "              \"input_tokens\": 14,\n",
      "              \"output_tokens\": 16,\n",
      "              \"total_tokens\": 30\n",
      "            },\n",
      "            \"tool_calls\": [],\n",
      "            \"invalid_tool_calls\": []\n",
      "          }\n",
      "        }\n",
      "      }\n",
      "    ]\n",
      "  ],\n",
      "  \"llm_output\": {\n",
      "    \"token_usage\": {\n",
      "      \"completion_tokens\": 16,\n",
      "      \"prompt_tokens\": 14,\n",
      "      \"total_tokens\": 30\n",
      "    },\n",
      "    \"model_name\": \"gpt-4o-mini-2024-07-18\",\n",
      "    \"system_fingerprint\": \"fp_483d39d857\"\n",
      "  },\n",
      "  \"run\": null\n",
      "}\n",
      "\u001b[32;1m\u001b[1;3m[chain/start]\u001b[0m \u001b[1m[chain:RunnableSequence > parser:StrOutputParser] Entering Parser run with input:\n",
      "\u001b[0m[inputs]\n",
      "\u001b[36;1m\u001b[1;3m[chain/end]\u001b[0m \u001b[1m[chain:RunnableSequence > parser:StrOutputParser] [1ms] Exiting Parser run with output:\n",
      "\u001b[0m{\n",
      "  \"output\": \"Why did the ice cream truck break down?\\n\\nBecause it had a rocky road!\"\n",
      "}\n",
      "\u001b[36;1m\u001b[1;3m[chain/end]\u001b[0m \u001b[1m[chain:RunnableSequence] [690ms] Exiting Chain run with output:\n",
      "\u001b[0m{\n",
      "  \"output\": \"Why did the ice cream truck break down?\\n\\nBecause it had a rocky road!\"\n",
      "}\n"
     ]
    },
    {
     "data": {
      "text/plain": [
       "'Why did the ice cream truck break down?\\n\\nBecause it had a rocky road!'"
      ]
     },
     "execution_count": 6,
     "metadata": {},
     "output_type": "execute_result"
    }
   ],
   "source": [
    "from langchain_openai import ChatOpenAI\n",
    "from langchain.prompts import ChatPromptTemplate\n",
    "from langchain.schema.output_parser import StrOutputParser\n",
    "from langchain.callbacks.tracers import ConsoleCallbackHandler\n",
    "\n",
    "prompt = ChatPromptTemplate.from_template(\"tell me a joke about {topic}\")\n",
    "model = ChatOpenAI(model=\"gpt-4o-mini\", temperature=0)\n",
    "output_parser = StrOutputParser()\n",
    "\n",
    "chain = prompt | model | output_parser\n",
    "\n",
    "# Adding the callback\n",
    "callbacks = [ConsoleCallbackHandler()]\n",
    "chain.invoke({\"topic\": \"ice cream\"}, config={'callbacks': callbacks})\n"
   ]
  }
 ],
 "metadata": {
  "kernelspec": {
   "display_name": "01-llm-and-prompting",
   "language": "python",
   "name": "01-llm-and-prompting"
  },
  "language_info": {
   "codemirror_mode": {
    "name": "ipython",
    "version": 3
   },
   "file_extension": ".py",
   "mimetype": "text/x-python",
   "name": "python",
   "nbconvert_exporter": "python",
   "pygments_lexer": "ipython3",
   "version": "3.12.5"
  },
  "orig_nbformat": 4
 },
 "nbformat": 4,
 "nbformat_minor": 2
}
