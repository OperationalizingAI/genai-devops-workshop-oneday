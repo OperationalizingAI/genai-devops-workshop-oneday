{
 "cells": [
  {
   "cell_type": "markdown",
   "metadata": {},
   "source": [
    "# Langchain - Orchestration Framework\n",
    "## Introduction\n",
    "As we've seen the apis between OpenAI and Anthropic are quite different. What if we want to switch models?\n",
    "We'd want to avoid rewriting our code , just to change the llm.\n",
    "\n",
    "One way of abstracting this, is to use an *orchestration framework` such as *Langchain*. It is the initial framework that generated a lot of buzz. See <https://github.com/langchain-ai/langchain>\n",
    "\n",
    "Since then other frameworks such as *LLamaIndex* <https://www.llamaindex.ai/> emerged. They have different philosophies but are often converging to the same functinoality.\n"
   ]
  },
  {
   "cell_type": "markdown",
   "metadata": {},
   "source": [
    "## Installation\n",
    "First we install langchain and also the components for the different llms"
   ]
  },
  {
   "cell_type": "code",
   "execution_count": 1,
   "metadata": {},
   "outputs": [
    {
     "name": "stdout",
     "output_type": "stream",
     "text": [
      "Note: you may need to restart the kernel to use updated packages.\n"
     ]
    }
   ],
   "source": [
    "%pip install -q langchain langchain-openai langchain-anthropic"
   ]
  },
  {
   "cell_type": "markdown",
   "metadata": {},
   "source": [
    "## Examples\n",
    "### OpenAI in Langchain syntax\n",
    "The frameworks allow the use of multiple different llms. Here we'll use OpenAI as an example."
   ]
  },
  {
   "cell_type": "code",
   "execution_count": 2,
   "metadata": {},
   "outputs": [
    {
     "name": "stdout",
     "output_type": "stream",
     "text": [
      "DevOps is a set of practices, tools, and cultural philosophies that aim to improve collaboration and communication between software development (Dev) and IT operations (Ops) teams. The primary goal of DevOps is to shorten the software development lifecycle, increase deployment frequency, and deliver high-quality software in a more efficient and reliable manner.\n",
      "\n",
      "Key principles and components of DevOps include:\n",
      "\n",
      "1. **Collaboration and Communication**: DevOps emphasizes breaking down silos between development and operations teams, promoting a culture of shared responsibility and collaboration.\n",
      "\n",
      "2. **Automation**: Automation of repetitive tasks, such as testing, integration, and deployment, is a core principle of DevOps. This helps to reduce human error and increase the speed of software delivery.\n",
      "\n",
      "3. **Continuous Integration and Continuous Deployment (CI/CD)**: CI/CD practices involve automatically integrating code changes, running tests, and deploying applications to production environments. This enables teams to release updates more frequently and reliably.\n",
      "\n",
      "4. **Monitoring and Feedback**: Continuous monitoring of applications and infrastructure is essential for identifying issues and gathering feedback from users. This information can be used to make informed decisions about future development and operations.\n",
      "\n",
      "5. **Infrastructure as Code (IaC)**: IaC is the practice of managing and provisioning computing infrastructure through code and automation, which allows for consistency and scalability in environments.\n",
      "\n",
      "6. **Cultural Change**: DevOps fosters a culture of experimentation, learning, and innovation, encouraging teams to adopt practices like blameless postmortems and iterative improvement.\n",
      "\n",
      "Overall, DevOps aims to create a more agile, responsive, and efficient approach to software development and operations, ultimately leading to better products and enhanced customer satisfaction.\n"
     ]
    }
   ],
   "source": [
    "# We import the relevant library for OpenAI\n",
    "from langchain_openai import ChatOpenAI\n",
    "\n",
    "# The question we're asking\n",
    "question = \"What is DevOps?\"\n",
    "\n",
    "# The model we select\n",
    "model = \"gpt-4o-mini\"\n",
    "\n",
    "# ChatOpenAI refers to OpenAI chat model\n",
    "llm = ChatOpenAI(model=model)\n",
    "\n",
    "# Now we ask the model to complete the question\n",
    "answer = llm.invoke(question)\n",
    "print(answer.content)"
   ]
  },
  {
   "cell_type": "markdown",
   "metadata": {},
   "source": [
    "### Anthropic in Langchain syntax\n",
    "Here's the equivalent for Anthropic with Langchain."
   ]
  },
  {
   "cell_type": "code",
   "execution_count": 3,
   "metadata": {},
   "outputs": [
    {
     "name": "stdout",
     "output_type": "stream",
     "text": [
      "DevOps is a software development approach that emphasizes collaboration, communication, and integration between software developers (Dev) and information technology operations professionals (Ops). The main goal of DevOps is to shorten the development lifecycle, increase the frequency and quality of deployments, and improve the reliability of software releases.\n",
      "\n",
      "Key aspects of DevOps include:\n",
      "\n",
      "1. Continuous Integration (CI): Regularly merging code changes into a central repository and automatically testing the build to detect integration issues early.\n",
      "\n",
      "2. Continuous Delivery (CD): Automating the entire software release process, from build to deployment, allowing for more frequent and reliable releases.\n",
      "\n",
      "3. Infrastructure as Code (IaC): Managing and provisioning infrastructure through machine-readable definition files, enabling version control, automation, and reproducibility.\n",
      "\n",
      "4. Monitoring and Logging: Continuously monitoring application performance and user behavior to quickly identify and resolve issues.\n",
      "\n",
      "5. Collaboration and Communication: Fostering a culture of collaboration and shared responsibility between development and operations teams.\n",
      "\n",
      "By adopting DevOps practices, organizations can improve the speed, stability, and reliability of their software development and deployment processes, ultimately delivering better products to their customers more efficiently.\n"
     ]
    }
   ],
   "source": [
    "# We import the relevant library for Anthropic\n",
    "from langchain_anthropic import ChatAnthropic\n",
    "\n",
    "# The question we ask\n",
    "question = \"What is DevOps?\"\n",
    "\n",
    "# The model we select\n",
    "model = \"claude-3-opus-20240229\"\n",
    "\n",
    "# ChatAnthropic refers to Anthropic chat model\n",
    "llm = ChatAnthropic(model=model)\n",
    "\n",
    "# Now we ask the model to complete the question\n",
    "answer = llm.invoke(question)\n",
    "print(answer.content)"
   ]
  },
  {
   "cell_type": "markdown",
   "metadata": {},
   "source": [
    "As you can see there is level of abstraction in how we call the model.\n",
    "\n",
    "But the actual reference to a specific model is different."
   ]
  }
 ],
 "metadata": {
  "kernelspec": {
   "display_name": "Python 3",
   "language": "python",
   "name": "python3"
  },
  "language_info": {
   "codemirror_mode": {
    "name": "ipython",
    "version": 3
   },
   "file_extension": ".py",
   "mimetype": "text/x-python",
   "name": "python",
   "nbconvert_exporter": "python",
   "pygments_lexer": "ipython3",
   "version": "3.12.5"
  },
  "orig_nbformat": 4
 },
 "nbformat": 4,
 "nbformat_minor": 2
}
