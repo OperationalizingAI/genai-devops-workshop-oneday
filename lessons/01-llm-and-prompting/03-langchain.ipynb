{
 "cells": [
  {
   "cell_type": "markdown",
   "metadata": {},
   "source": [
    "# Langchain - Orchestration Framework\n",
    "## Introduction\n",
    "As we've seen the apis between OpenAI and Anthropic are quite different. What if we want to switch models?\n",
    "We'd want to avoid rewriting our code , just to change the llm.\n",
    "\n",
    "One way of abstracting this, is to use an *orchestration framework` such as *Langchain*. It is the initial framework that generated a lot of buzz. See <https://github.com/langchain-ai/langchain>\n",
    "\n",
    "Since then other frameworks such as *LLamaIndex* <https://www.llamaindex.ai/> emerged. They have different philosophies but are often converging to the same functinoality.\n"
   ]
  },
  {
   "cell_type": "markdown",
   "metadata": {},
   "source": [
    "## Installation\n",
    "First we install langchain and also the components for the different llms"
   ]
  },
  {
   "cell_type": "code",
   "execution_count": 1,
   "metadata": {},
   "outputs": [
    {
     "name": "stdout",
     "output_type": "stream",
     "text": [
      "Note: you may need to restart the kernel to use updated packages.\n"
     ]
    }
   ],
   "source": [
    "%pip install -q langchain langchain-openai langchain-anthropic"
   ]
  },
  {
   "cell_type": "markdown",
   "metadata": {},
   "source": [
    "## Examples\n",
    "### OpenAI in Langchain syntax\n",
    "The frameworks allow the use of multiple different llms. Here we'll use OpenAI as an example."
   ]
  },
  {
   "cell_type": "code",
   "execution_count": 2,
   "metadata": {},
   "outputs": [
    {
     "name": "stdout",
     "output_type": "stream",
     "text": [
      "DevOps is a set of practices, principles, and cultural philosophies that aim to improve collaboration and communication between software development (Dev) and IT operations (Ops) teams. The goal of DevOps is to shorten the software development lifecycle, increase the frequency of software releases, and enhance the quality and reliability of software products.\n",
      "\n",
      "Key aspects of DevOps include:\n",
      "\n",
      "1. **Collaboration**: DevOps fosters a culture of collaboration between developers, operations teams, and other stakeholders, breaking down traditional silos that can hinder communication and productivity.\n",
      "\n",
      "2. **Automation**: DevOps emphasizes the automation of various processes, including code integration, testing, deployment, and infrastructure management. Automation helps reduce manual errors, speeds up processes, and allows teams to focus on higher-level tasks.\n",
      "\n",
      "3. **Continuous Integration and Continuous Deployment (CI/CD)**: CI/CD practices involve frequently integrating code changes into a shared repository and automating the deployment of applications to production environments. This leads to faster feedback and more reliable releases.\n",
      "\n",
      "4. **Monitoring and Feedback**: DevOps encourages continuous monitoring of applications and infrastructure to gather insights on performance, usage, and potential issues. Feedback loops enable teams to make data-driven decisions and improve their processes and products.\n",
      "\n",
      "5. **Infrastructure as Code (IaC)**: IaC involves managing infrastructure through code and automation tools, allowing teams to provision and manage resources like servers and networks in a consistent and repeatable manner.\n",
      "\n",
      "6. **Cultural Change**: DevOps promotes a cultural shift within organizations to embrace agility, experimentation, and open communication. Teams are encouraged to learn from failures and continuously improve.\n",
      "\n",
      "Overall, DevOps aims to create a more efficient and responsive software development environment, enabling organizations to deliver high-quality software faster and more reliably.\n"
     ]
    }
   ],
   "source": [
    "# We import the relevant library for OpenAI\n",
    "from langchain_openai import ChatOpenAI\n",
    "\n",
    "# The question we're asking\n",
    "question = \"What is DevOps?\"\n",
    "\n",
    "# The model we select\n",
    "model = \"gpt-4o-mini\"\n",
    "\n",
    "# ChatOpenAI refers to OpenAI chat model\n",
    "llm = ChatOpenAI(model=model)\n",
    "\n",
    "# Now we ask the model to complete the question\n",
    "answer = llm.invoke(question)\n",
    "print(answer.content)"
   ]
  },
  {
   "cell_type": "markdown",
   "metadata": {},
   "source": [
    "### Anthropic in Langchain syntax\n",
    "Here's the equivalent for Anthropic with Langchain."
   ]
  },
  {
   "cell_type": "code",
   "execution_count": 3,
   "metadata": {},
   "outputs": [
    {
     "name": "stdout",
     "output_type": "stream",
     "text": [
      "DevOps is a set of practices, philosophies, and tools that aim to enhance an organization's ability to deliver applications and services at high velocity. It combines software development (Dev) and IT operations (Ops) to shorten the development life cycle and provide continuous delivery with high software quality.\n",
      "\n",
      "Key aspects of DevOps include:\n",
      "\n",
      "1. Collaboration: DevOps promotes collaboration and communication between development, operations, and other stakeholders throughout the software development life cycle.\n",
      "\n",
      "2. Automation: Automating tasks such as building, testing, and deployment helps to reduce errors, increase efficiency, and enable faster delivery of software.\n",
      "\n",
      "3. Continuous Integration and Continuous Delivery (CI/CD): DevOps emphasizes the practice of frequently merging code changes into a central repository and automatically building, testing, and deploying the changes.\n",
      "\n",
      "4. Monitoring and Logging: DevOps teams use monitoring and logging tools to gain insights into the performance and health of applications and infrastructure in real-time.\n",
      "\n",
      "5. Infrastructure as Code (IaC): DevOps encourages managing infrastructure using code and version control, enabling consistent and reproducible deployments.\n",
      "\n",
      "6. Agile Methodology: DevOps often incorporates Agile principles, such as iterative development, frequent releases, and responsiveness to change.\n",
      "\n",
      "Some popular tools and technologies associated with DevOps include Git, Jenkins, Docker, Kubernetes, Ansible, Puppet, and Terraform. By adopting DevOps practices, organizations can improve their ability to deliver high-quality software more frequently and reliably, while fostering a culture of collaboration and continuous improvement.\n"
     ]
    }
   ],
   "source": [
    "# We import the relevant library for Anthropic\n",
    "from langchain_anthropic import ChatAnthropic\n",
    "\n",
    "# The question we ask\n",
    "question = \"What is DevOps?\"\n",
    "\n",
    "# The model we select\n",
    "model = \"claude-3-opus-20240229\"\n",
    "\n",
    "# ChatAnthropic refers to Anthropic chat model\n",
    "llm = ChatAnthropic(model=model)\n",
    "\n",
    "# Now we ask the model to complete the question\n",
    "answer = llm.invoke(question)\n",
    "print(answer.content)"
   ]
  },
  {
   "cell_type": "markdown",
   "metadata": {},
   "source": [
    "As you can see there is level of abstraction in how we call the model.\n",
    "\n",
    "But the actual reference to a specific model is different."
   ]
  }
 ],
 "metadata": {
  "kernelspec": {
   "display_name": "01-llm-and-prompting",
   "language": "python",
   "name": "01-llm-and-prompting"
  },
  "language_info": {
   "codemirror_mode": {
    "name": "ipython",
    "version": 3
   },
   "file_extension": ".py",
   "mimetype": "text/x-python",
   "name": "python",
   "nbconvert_exporter": "python",
   "pygments_lexer": "ipython3",
   "version": "3.12.5"
  },
  "orig_nbformat": 4
 },
 "nbformat": 4,
 "nbformat_minor": 2
}
