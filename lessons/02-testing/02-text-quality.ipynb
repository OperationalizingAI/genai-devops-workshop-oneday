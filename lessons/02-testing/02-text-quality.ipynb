{
 "cells": [
  {
   "cell_type": "markdown",
   "metadata": {},
   "source": [
    "# Testing for Text Qualities\n",
    "## Introduction\n",
    "- Sometimes it's not that simple to test for a certain work.\n",
    "- How do you test if to test certain text qualities with traditional testing.\n",
    "- For example , how do we check the sentiment of a text ?\n",
    "- For this we can use specifically trained ML models.\n",
    "- We will download the model via HuggingFace which is like a Github for models.\n",
    "\n",
    "<https://huggingface.co/michellejieli/emotion_text_classifier>"
   ]
  },
  {
   "cell_type": "markdown",
   "metadata": {},
   "source": [
    "## Installation"
   ]
  },
  {
   "cell_type": "code",
   "execution_count": 1,
   "metadata": {},
   "outputs": [
    {
     "name": "stdout",
     "output_type": "stream",
     "text": [
      "Note: you may need to restart the kernel to use updated packages.\n"
     ]
    }
   ],
   "source": [
    "%pip install -q transformers torch langchain langchain-openai"
   ]
  },
  {
   "cell_type": "markdown",
   "metadata": {},
   "source": [
    "## Testing emotions using a classifier"
   ]
  },
  {
   "cell_type": "markdown",
   "metadata": {},
   "source": [
    "We ask it to write a joyfull poem. And we will then check if this joyfull using a model."
   ]
  },
  {
   "cell_type": "code",
   "execution_count": 2,
   "metadata": {},
   "outputs": [
    {
     "name": "stdout",
     "output_type": "stream",
     "text": [
      "In the realm of code where ideas flow,  \n",
      "DevOps dances, swift and aglow.  \n",
      "Sprints of joy, release delights,  \n",
      "Seamless merges, bug-free nights.  \n",
      "Together we build, better and fast—oh, what a show!\n"
     ]
    }
   ],
   "source": [
    "from langchain_openai import ChatOpenAI\n",
    "\n",
    "def ask_model(model, question):\n",
    "    llm = ChatOpenAI(model=model, temperature=0) # note the temperature=0 to get deterministic results\n",
    "    completion = llm.invoke(question)\n",
    "    return completion.content\n",
    "\n",
    "answer = ask_model(\"gpt-4-turbo\", \"Write me poem about DevOps in 5 lines that is very joyfull\")\n",
    "print(answer)"
   ]
  },
  {
   "cell_type": "markdown",
   "metadata": {},
   "source": [
    "We can now use a classifier to see if the text is joyful. These classifiers are machine learning models trained with traditional AI/ML."
   ]
  },
  {
   "cell_type": "code",
   "execution_count": 3,
   "metadata": {},
   "outputs": [
    {
     "name": "stderr",
     "output_type": "stream",
     "text": [
      "/home/vscode/my-envs/02-testing/lib/python3.12/site-packages/transformers/tokenization_utils_base.py:1601: FutureWarning: `clean_up_tokenization_spaces` was not set. It will be set to `True` by default. This behavior will be depracted in transformers v4.45, and will be then set to `False` by default. For more details check this issue: https://github.com/huggingface/transformers/issues/31884\n",
      "  warnings.warn(\n"
     ]
    },
    {
     "data": {
      "text/plain": [
       "[{'label': 'joy', 'score': 0.9745444655418396}]"
      ]
     },
     "execution_count": 3,
     "metadata": {},
     "output_type": "execute_result"
    }
   ],
   "source": [
    "from transformers import pipeline\n",
    "\n",
    "# Setup the pipelin\n",
    "classifier = pipeline(\"sentiment-analysis\", model=\"michellejieli/emotion_text_classifier\")\n",
    "\n",
    "# Classify the answer we got from the LLM\n",
    "classifier(answer)"
   ]
  },
  {
   "cell_type": "markdown",
   "metadata": {},
   "source": [
    "Let's try and change the question to ask the LLM for a poem with a different emotion."
   ]
  },
  {
   "cell_type": "code",
   "execution_count": 4,
   "metadata": {},
   "outputs": [
    {
     "name": "stdout",
     "output_type": "stream",
     "text": [
      "Fury ignites like a wildfire's roar,  \n",
      "Words like daggers, I can't take it anymore!  \n",
      "Betrayal stings, a venomous bite,  \n",
      "Screaming silence in the dead of night,  \n",
      "This rage, a tempest, I can’t ignore!\n"
     ]
    },
    {
     "data": {
      "text/plain": [
       "[{'label': 'anger', 'score': 0.9814237952232361}]"
      ]
     },
     "execution_count": 4,
     "metadata": {},
     "output_type": "execute_result"
    }
   ],
   "source": [
    "answer = ask_model(\"gpt-4o-mini\", \"Write a really really angry poem in 5 lines\")\n",
    "print(answer)\n",
    "classifier(answer)"
   ]
  },
  {
   "cell_type": "markdown",
   "metadata": {},
   "source": [
    "As you can see it can detect emotions and it puts a score (how certain it is). You can now use this in your test. But remember it's a score and not always correct."
   ]
  },
  {
   "cell_type": "code",
   "execution_count": 5,
   "metadata": {},
   "outputs": [
    {
     "name": "stdout",
     "output_type": "stream",
     "text": [
      "Why did the scarecrow win an award?  \n",
      "Because he was outstanding in his field!  \n",
      "But then he got a promotion—  \n",
      "Now he’s just a straw boss,  \n",
      "And all the crows are on strike!\n"
     ]
    },
    {
     "data": {
      "text/plain": [
       "[{'label': 'anger', 'score': 0.661028265953064}]"
      ]
     },
     "execution_count": 5,
     "metadata": {},
     "output_type": "execute_result"
    }
   ],
   "source": [
    "answer = ask_model(\"gpt-4o-mini\", \"Write something really funny in 5 lines\")\n",
    "print(answer)\n",
    "classifier(answer)"
   ]
  }
 ],
 "metadata": {
  "kernelspec": {
   "display_name": "02-testing",
   "language": "python",
   "name": "02-testing"
  },
  "language_info": {
   "codemirror_mode": {
    "name": "ipython",
    "version": 3
   },
   "file_extension": ".py",
   "mimetype": "text/x-python",
   "name": "python",
   "nbconvert_exporter": "python",
   "pygments_lexer": "ipython3",
   "version": "3.12.5"
  }
 },
 "nbformat": 4,
 "nbformat_minor": 2
}
