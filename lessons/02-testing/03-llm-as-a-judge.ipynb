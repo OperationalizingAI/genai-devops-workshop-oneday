{
 "cells": [
  {
   "cell_type": "markdown",
   "metadata": {},
   "source": [
    "# LLM as a judge\n",
    "## Introduction\n",
    "- Another technique is to use an LLM and ask what it thinks about the generated text.\n",
    "- This is referred to as *LLM as a judge*\n",
    "- It is often easier to setup but might also be slower and more costly."
   ]
  },
  {
   "cell_type": "markdown",
   "metadata": {},
   "source": [
    "## Installation"
   ]
  },
  {
   "cell_type": "code",
   "execution_count": 1,
   "metadata": {},
   "outputs": [
    {
     "name": "stdout",
     "output_type": "stream",
     "text": [
      "Note: you may need to restart the kernel to use updated packages.\n"
     ]
    }
   ],
   "source": [
    "%pip install -q langchain langchain-openai langchain-anthropic"
   ]
  },
  {
   "cell_type": "markdown",
   "metadata": {},
   "source": [
    "## Asking an LLM to check a joke"
   ]
  },
  {
   "cell_type": "code",
   "execution_count": 2,
   "metadata": {},
   "outputs": [
    {
     "name": "stdout",
     "output_type": "stream",
     "text": [
      "Why did the DevOps engineer break up with their partner?\n",
      "\n",
      "Because they kept saying, \"It's not you, it's your environment!\"\n"
     ]
    }
   ],
   "source": [
    "from langchain_openai import ChatOpenAI\n",
    "\n",
    "def ask_model(model, question):\n",
    "    llm = ChatOpenAI(model=model, temperature=0)\n",
    "    completion = llm.invoke(question)\n",
    "    return completion.content\n",
    "\n",
    "joke = ask_model(\"gpt-4o-mini\", \"Write me joke about Devops\")\n",
    "print(joke)"
   ]
  },
  {
   "cell_type": "markdown",
   "metadata": {},
   "source": [
    "To check the joke, we can ask the llm."
   ]
  },
  {
   "cell_type": "code",
   "execution_count": 3,
   "metadata": {},
   "outputs": [
    {
     "name": "stdout",
     "output_type": "stream",
     "text": [
      "YES\n"
     ]
    }
   ],
   "source": [
    "prompt ='\\n'.join([ \n",
    "    f\"Is this joke funny?:\",\n",
    "    f\"{joke}\",\n",
    "    \"Please answer with only YES or NO\"])\n",
    "is_this_funny = ask_model(\"gpt-4o-mini\",prompt )\n",
    "print(is_this_funny)"
   ]
  },
  {
   "cell_type": "markdown",
   "metadata": {},
   "source": [
    "You can also ask another model to judge another"
   ]
  },
  {
   "cell_type": "code",
   "execution_count": 4,
   "metadata": {},
   "outputs": [
    {
     "name": "stdout",
     "output_type": "stream",
     "text": [
      "YES\n"
     ]
    }
   ],
   "source": [
    "from langchain_anthropic import ChatAnthropic\n",
    "\n",
    "def ask_model_anthropic(model, question):\n",
    "    llm = ChatAnthropic(model=model, temperature=0)\n",
    "    completion = llm.invoke(question)\n",
    "    return completion.content\n",
    "\n",
    "answer = ask_model_anthropic(\"claude-3-opus-20240229\", prompt)\n",
    "print(answer)"
   ]
  },
  {
   "cell_type": "markdown",
   "metadata": {},
   "source": [
    "This is easy to use, but remember it might not be accurate."
   ]
  }
 ],
 "metadata": {
  "kernelspec": {
   "display_name": "02-testing",
   "language": "python",
   "name": "02-testing"
  },
  "language_info": {
   "codemirror_mode": {
    "name": "ipython",
    "version": 3
   },
   "file_extension": ".py",
   "mimetype": "text/x-python",
   "name": "python",
   "nbconvert_exporter": "python",
   "pygments_lexer": "ipython3",
   "version": "3.12.5"
  }
 },
 "nbformat": 4,
 "nbformat_minor": 2
}
