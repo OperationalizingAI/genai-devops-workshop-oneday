{
 "cells": [
  {
   "cell_type": "markdown",
   "metadata": {},
   "source": [
    "# Inspect - an Eval Framework\n",
    "## Introduction\n",
    "- As we've seen in the lesson about simple testing, changing the prompt slightly and senting it to the same llm can give different results.\n",
    "- Imagine swapping in and out another model, how do you make sure your code keeps working?\n",
    "- Much like in Test Driven Development, the LLM community talks about *Evals*\n",
    "- Evals can be seen as a test suite to check the results across multiple prompts and llms\n",
    "- We've seen how it works, but luckily there exist frameworks that have some helpers , so we don't have to do it all by ourselves\n",
    "\n",
    "The framework we will show here is `Inspect AI` - <https://inspect.ai-safety-institute.org.uk/>. It comes in the form of a VSCode plugin too, this is eanbled in this workshop."
   ]
  },
  {
   "cell_type": "markdown",
   "metadata": {},
   "source": [
    "## Installation"
   ]
  },
  {
   "cell_type": "code",
   "execution_count": 1,
   "metadata": {},
   "outputs": [
    {
     "name": "stdout",
     "output_type": "stream",
     "text": [
      "Note: you may need to restart the kernel to use updated packages.\n"
     ]
    }
   ],
   "source": [
    "%pip install -q inspect_ai openai anthropic"
   ]
  },
  {
   "cell_type": "markdown",
   "metadata": {},
   "source": [
    "## Something to make it work\n",
    "- Inspect AI usually works from the CLI or the VSCode plugin\n",
    "- To make it behave in a Docker machine, we need to fix the XDG_RUNTIME_DIR\n",
    "- to avoid error FileNotFoundError: [Errno 2] No such file or directory: '/run/user/1000/inspect_ai/view'\n",
    "- we need to indicate the XDG_RUNTIME_DIR to a writeable directory\n",
    "See <https://github.com/UKGovernmentBEIS/inspect_ai/issues/51>\n"
   ]
  },
  {
   "cell_type": "code",
   "execution_count": 2,
   "metadata": {},
   "outputs": [],
   "source": [
    "import os\n",
    "os.environ['XDG_RUNTIME_DIR']=\"/tmp\""
   ]
  },
  {
   "cell_type": "markdown",
   "metadata": {},
   "source": [
    "## Evaluating LLM as a translator\n",
    "Image we find the perfect prompt to us an LLM as a translator. How would we evaluate this ?\n",
    "\n",
    "Inspect AI has a decorated called *task*. WIth that is knows what functions to run to test."
   ]
  },
  {
   "cell_type": "code",
   "execution_count": 3,
   "metadata": {},
   "outputs": [],
   "source": [
    "from inspect_ai import Task, list_tasks, task, eval\n",
    "from inspect_ai.dataset import Sample\n",
    "from inspect_ai.scorer import match, model_graded_qa\n",
    "from inspect_ai.solver import generate, system_message\n",
    "\n",
    "@task()\n",
    "def test_translator():\n",
    "\n",
    "    OUR_PROMPT = \"You are a friendly translator. Translate the following words into Italian. Only answer with a single word\"\n",
    "\n",
    "    # The dataset to test\n",
    "    dataset = [\n",
    "        Sample(input = \"Pizza\", target = \"Pizza\"),\n",
    "        Sample(input=\"Bicyle\", target = \"Bicicletta\")\n",
    "    ]\n",
    "\n",
    "    # A task to run evals on:\n",
    "    # - The dataset to run\n",
    "    # - The plan to execute\n",
    "    # - The way to give the result/completion a score\n",
    "    return Task(\n",
    "        dataset=dataset,\n",
    "        plan=[\n",
    "          system_message(message=OUR_PROMPT),\n",
    "          generate()\n",
    "        ],\n",
    "        scorer=[match(),model_graded_qa()]\n",
    "    )\n",
    "\n",
    "    # Plan is a list of steps to solve the task\n",
    "    # In this case we set the system prompt and then generate (ask the completion)\n",
    "\n",
    "    # Scorer is a list of scoring functions to evaluate the task\n",
    "    # Example scorers\n",
    "    # https://inspect.ai-safety-institute.org.uk/scorers.html\n",
    "    # match()-  Determine whether the target from the Sample appears at the beginning or end of model output (defaults to looking at the end)\n",
    "    # pattern() -  Extract the answer from model output using a regular expression.\n",
    "    # model_graded_qa() - Have another model assess whether the model output is a correct answer based on the grading guidance contained in target. Has a built-in template that can be customised."
   ]
  },
  {
   "cell_type": "markdown",
   "metadata": {},
   "source": [
    "## Running the evals across multiple models"
   ]
  },
  {
   "cell_type": "markdown",
   "metadata": {},
   "source": [
    "We add all the models we want to test across"
   ]
  },
  {
   "cell_type": "code",
   "execution_count": 4,
   "metadata": {},
   "outputs": [
    {
     "data": {
      "application/vnd.jupyter.widget-view+json": {
       "model_id": "29bc85f979b945698f16c7a9c3769923",
       "version_major": 2,
       "version_minor": 0
      },
      "text/plain": [
       "Output()"
      ]
     },
     "metadata": {},
     "output_type": "display_data"
    }
   ],
   "source": [
    "# https://docs.anthropic.com/en/docs/about-claude/models#model-names\n",
    "models = []\n",
    "import os\n",
    "if os.environ.get(\"ANTHROPIC_API_KEY\"):\n",
    "    models.append(\"anthropic/claude-3-5-sonnet-20240620\")\n",
    "if os.environ.get(\"OPENAI_API_KEY\"):\n",
    "    models.append(\"openai/gpt-4\")\n",
    "    models.append(\"openai/gpt-4o-mini\")\n",
    "\n",
    "# We run the task for each of the models and print the result\n",
    "results = eval(test_translator, model=models, max_steps=10)\n",
    "print(results)"
   ]
  },
  {
   "cell_type": "markdown",
   "metadata": {},
   "source": [
    "## Inspecting the result of the test runs"
   ]
  },
  {
   "cell_type": "markdown",
   "metadata": {},
   "source": [
    "We can open the results from the inspect run:\n",
    "- Clicking the logs will open the log file\n",
    "- Now right-click to open in the inspect view\n",
    "\n",
    "This a great way to see the results and keep track of the impact of changes.\n",
    "You can now run this as part of your test suite locally or on your CI/CD pipeline."
   ]
  },
  {
   "cell_type": "markdown",
   "metadata": {},
   "source": [
    "## Secure sandbox\n",
    "See this example of using docker for running evaluations of capture the flag.\n",
    "<https://inspect.ai-safety-institute.org.uk/agents.html#sec-sandbox-environments>\n",
    "\n",
    "Time to write your own now !"
   ]
  }
 ],
 "metadata": {
  "kernelspec": {
   "display_name": "02-testing",
   "language": "python",
   "name": "02-testing"
  },
  "language_info": {
   "codemirror_mode": {
    "name": "ipython",
    "version": 3
   },
   "file_extension": ".py",
   "mimetype": "text/x-python",
   "name": "python",
   "nbconvert_exporter": "python",
   "pygments_lexer": "ipython3",
   "version": "3.12.5"
  }
 },
 "nbformat": 4,
 "nbformat_minor": 2
}
