{
 "cells": [
  {
   "cell_type": "markdown",
   "id": "ec889d86-0d16-477f-8b7f-be03d73ad957",
   "metadata": {},
   "source": [
    "# Overview of embeddings-based retrieval"
   ]
  },
  {
   "cell_type": "markdown",
   "id": "58ee2f53-d88b-4f00-94a2-75a66d4149e9",
   "metadata": {},
   "source": [
    "In this lesson we'll index a PDF. We'll have the vector database calculate the embeddings and pass the information to the llm as additional information."
   ]
  },
  {
   "cell_type": "markdown",
   "id": "83262437",
   "metadata": {},
   "source": [
    "## Installation"
   ]
  },
  {
   "cell_type": "code",
   "execution_count": 25,
   "id": "baac1134",
   "metadata": {},
   "outputs": [
    {
     "name": "stderr",
     "output_type": "stream",
     "text": [
      "huggingface/tokenizers: The current process just got forked, after parallelism has already been used. Disabling parallelism to avoid deadlocks...\n",
      "To disable this warning, you can either:\n",
      "\t- Avoid using `tokenizers` before the fork if possible\n",
      "\t- Explicitly set the environment variable TOKENIZERS_PARALLELISM=(true | false)\n"
     ]
    },
    {
     "name": "stdout",
     "output_type": "stream",
     "text": [
      "Note: you may need to restart the kernel to use updated packages.\n"
     ]
    }
   ],
   "source": [
    "%pip install -q -r requirements.txt"
   ]
  },
  {
   "cell_type": "markdown",
   "id": "8974b0c1",
   "metadata": {},
   "source": [
    "## Reading the text from a PDF\n",
    "\n",
    "You can view the pdf in your browser [here](./microsoft_annual_report_2022.pdf) if you would like. "
   ]
  },
  {
   "cell_type": "code",
   "execution_count": 26,
   "id": "3748b16d-d4a7-49c3-a48a-57dcfc42acd6",
   "metadata": {
    "height": 166
   },
   "outputs": [
    {
     "name": "stdout",
     "output_type": "stream",
     "text": [
      "1 Dear shareholders, colleagues, customers, and partners:  \n",
      "We are living through a period of historic economic, societal, and geopolitical change. The world in 2022 looks nothing like \n",
      "the world in 2019. As I write this, inflation is at a 40 -year high, supply chains are stretched, and the war in Ukraine is \n",
      "ongoing. At the same time, we are entering a technological era with the potential to power awesome advancements \n",
      "across every sector of our economy and society. As the world’s largest software company, this places us at a historic \n",
      "intersection of opportunity and responsibility to the world around us.  \n",
      "Our mission to empower every person and every organization on the planet to achieve more has never been more \n",
      "urgent or more necessary. For all the uncertainty in the world, one thing is clear: People and organizations in every \n",
      "industry are increasingly looking to digital technology to overcome today’s challenges and emerge stronger. And no \n",
      "company is better positioned to help them than Microsoft.  \n",
      "Every day this past fiscal year I have had the privilege to witness our customers use our platforms and tools to connect \n",
      "what technology can do with what the world needs  it to do.  \n",
      "Here are just a few examples:  \n",
      "• Ferrovial, which builds and manages some of the world’s busiest airports and highways, is using our cloud \n",
      "infrastructure to build safer roads as it prepares for a future of autonomous transportation.  \n",
      "• Peace Parks Foundation, a nonprofit helping protect natural ecosystems in Southern Africa, is using Microsoft \n",
      "Dynamics 365 and Power BI to secure essential funding, as well as our Azure AI and IoT solutions to help \n",
      "rangers scale their park maintenance and wildlife crime prevention work.  \n",
      "• One of the world’s largest robotics companies, Kawasaki Heavy Industries, is using the breadth of our tools —\n",
      "from Azure IoT and HoloLens —to create an industrial metaverse solution that brings its distributed workforce \n",
      "together with its network of connected equipment to improve productivity and keep employees safe.  \n",
      "• Globo, the biggest media and TV company in Brazil, is using Power Platform to empower its employees to \n",
      "build their own solutions for everything from booking sets to setting schedules.  \n",
      "• And Ørsted, which produces a quarter of the world’s wind energy, is using the Microsoft Intelligent Data \n",
      "Platform to turn data from its offshore turbines into insights for predictive maintenance.  \n",
      "Amid this dynamic environment, we delivered record results in fiscal year 2022: We reported $198  billion in revenue and \n",
      "$83 billion in operating income. And the Microsoft Cloud surpassed $100  billion in annualized revenue for the first time.  \n",
      "OUR RESPONSIBILITY  \n",
      "As a corporation, our purpose and actions must be aligned with addressing the world’s problems, not creating new ones. \n",
      "At our very core, we need to deliver innovation that helps drive broad economic growth. We, as a company, will do well \n",
      "when the world around us does well.  \n",
      "That’s what I believe will lead to widespread human progress and ultimately improve the lives of everyone. There is no \n",
      "more powerful input than digital technology to drive the world’s economic output. This is the core thesis for our being as a \n",
      "company, but it’s not enough. As we drive global economic growth, we must also commit to creating a more inclusive, \n",
      "equitable, sustainable, and trusted future.  \n",
      "Support inclusive economic growth  \n",
      "We must ensure the growth we drive reaches every person, organization, community, and country. This starts with \n",
      "increasing access to digital skills. This year alone, more than 23  million people accessed digital skills training as part of \n",
      "our global skills initiative.\n"
     ]
    }
   ],
   "source": [
    "from pypdf import PdfReader\n",
    "\n",
    "reader = PdfReader(\"data/microsoft_annual_report_2022.pdf\")\n",
    "\n",
    "# Reading the pages and extracting the text\n",
    "pdf_texts = [p.extract_text().strip() for p in reader.pages]\n",
    "\n",
    "# Filte out the empty text strings\n",
    "pdf_texts = [text for text in pdf_texts if text]\n",
    "\n",
    "#print(word_wrap(pdf_texts[0]))\n",
    "# Print out the first piece\n",
    "print(pdf_texts[0])"
   ]
  },
  {
   "cell_type": "markdown",
   "id": "5961c22e",
   "metadata": {},
   "source": [
    "**Note: Take a look at the first page of the document**\n",
    "(pdf_texts[0] is the first page)"
   ]
  },
  {
   "cell_type": "markdown",
   "id": "4bcd493b",
   "metadata": {},
   "source": [
    "# Load Langchain text splitter tools"
   ]
  },
  {
   "cell_type": "markdown",
   "id": "6ab90347",
   "metadata": {},
   "source": [
    "### Recursive Character splitter\n",
    "Splitting text by recursively look at characters.\n",
    "\n",
    "Recursively tries to split by different characters to find one that works.\n"
   ]
  },
  {
   "cell_type": "code",
   "execution_count": 27,
   "id": "a338ec83-6301-41a5-9ab1-e5d583306a3f",
   "metadata": {
    "height": 64
   },
   "outputs": [],
   "source": [
    "from langchain.text_splitter import RecursiveCharacterTextSplitter"
   ]
  },
  {
   "cell_type": "markdown",
   "id": "81e1efc3",
   "metadata": {},
   "source": [
    "*Note: Because the way we read in the pdf via text there are no paragraphs so chunking doesn't really work* "
   ]
  },
  {
   "cell_type": "markdown",
   "id": "6dcf51fc",
   "metadata": {},
   "source": [
    "This splitter works more mechanically by recursively splitting text based on a set of delimiters, typically starting with larger units (e.g., paragraphs), then moving to smaller units (e.g., sentences, words) until the desired chunk size is met."
   ]
  },
  {
   "cell_type": "code",
   "execution_count": 28,
   "id": "888a86f8-2fe2-4682-bdaf-c15129ed1a32",
   "metadata": {
    "height": 183
   },
   "outputs": [
    {
     "name": "stdout",
     "output_type": "stream",
     "text": [
      "Chunk#=0 Chunk=1 Dear shareholders, colleagues, customers, and partners:  \n",
      "We are living through a period of historic economic, societal, and geopolitical change. The world in 2022 looks nothing like \n",
      "the world in 2019. As I write this, inflation is at a 40 -year high, supply chains are stretched, and the war in Ukraine is \n",
      "ongoing. At the same time, we are entering a technological era with the potential to power awesome advancements \n",
      "across every sector of our economy and society. As the world’s largest software company, this places us at a historic \n",
      "intersection of opportunity and responsibility to the world around us.  \n",
      "Our mission to empower every person and every organization on the planet to achieve more has never been more \n",
      "urgent or more necessary. For all the uncertainty in the world, one thing is clear: People and organizations in every \n",
      "industry are increasingly looking to digital technology to overcome today’s challenges and emerge stronger. And no \n",
      "\n",
      "Chunk#=1 Chunk=company is better positioned to help them than Microsoft.  \n",
      "Every day this past fiscal year I have had the privilege to witness our customers use our platforms and tools to connect \n",
      "what technology can do with what the world needs  it to do.  \n",
      "Here are just a few examples:  \n",
      "• Ferrovial, which builds and manages some of the world’s busiest airports and highways, is using our cloud \n",
      "infrastructure to build safer roads as it prepares for a future of autonomous transportation.  \n",
      "• Peace Parks Foundation, a nonprofit helping protect natural ecosystems in Southern Africa, is using Microsoft \n",
      "Dynamics 365 and Power BI to secure essential funding, as well as our Azure AI and IoT solutions to help \n",
      "rangers scale their park maintenance and wildlife crime prevention work.  \n",
      "• One of the world’s largest robotics companies, Kawasaki Heavy Industries, is using the breadth of our tools —\n",
      "from Azure IoT and HoloLens —to create an industrial metaverse solution that brings its distributed workforce \n",
      "\n",
      "Chunk#=2 Chunk=together with its network of connected equipment to improve productivity and keep employees safe.  \n",
      "• Globo, the biggest media and TV company in Brazil, is using Power Platform to empower its employees to \n",
      "build their own solutions for everything from booking sets to setting schedules.  \n",
      "• And Ørsted, which produces a quarter of the world’s wind energy, is using the Microsoft Intelligent Data \n",
      "Platform to turn data from its offshore turbines into insights for predictive maintenance.  \n",
      "Amid this dynamic environment, we delivered record results in fiscal year 2022: We reported $198  billion in revenue and \n",
      "$83 billion in operating income. And the Microsoft Cloud surpassed $100  billion in annualized revenue for the first time.  \n",
      "OUR RESPONSIBILITY  \n",
      "As a corporation, our purpose and actions must be aligned with addressing the world’s problems, not creating new ones. \n",
      "At our very core, we need to deliver innovation that helps drive broad economic growth. We, as a company, will do well \n",
      "\n",
      "Chunk#=3 Chunk=when the world around us does well.  \n",
      "That’s what I believe will lead to widespread human progress and ultimately improve the lives of everyone. There is no \n",
      "more powerful input than digital technology to drive the world’s economic output. This is the core thesis for our being as a \n",
      "company, but it’s not enough. As we drive global economic growth, we must also commit to creating a more inclusive, \n",
      "equitable, sustainable, and trusted future.  \n",
      "Support inclusive economic growth  \n",
      "We must ensure the growth we drive reaches every person, organization, community, and country. This starts with \n",
      "increasing access to digital skills. This year alone, more than 23  million people accessed digital skills training as part of \n",
      "our global skills initiative. \n",
      "\n",
      "Chunk#=4 Chunk=2   \n",
      "But skills alone aren’t enough —we need to help people better prepare for and connect to jobs. That’s why we’ve \n",
      "committed to equip 10  million people from underserved communities with skills for jobs in the digital economy by 2025.  \n",
      "One area of digital skills has become especially critical: cybersecurity. Cybersecurity is a significant threat for \n",
      "governments, businesses, and individuals around the world, yet there simply aren’t enough people with cybersecurity \n",
      "skills to fill open jobs.  \n",
      "To help address this, we’ve committed to skill and recruit 250,000 people into the US cybersecurity workforce by 2025 —\n",
      "especially those underrepresented in the field. And we’re helping an additional 24 countries with substantial cybersecurity \n",
      "workforce shortages close their gaps too.  \n",
      "We also continue to deliver affordable, relevant cloud technology and industry -specific solutions to nonprofit organizations \n",
      "\n",
      "\n",
      "Total chunks: 347\n"
     ]
    }
   ],
   "source": [
    "character_splitter = RecursiveCharacterTextSplitter(\n",
    "    #separators=[\"\\n\\n\", \"\\n\", \". \", \" \", \"\"],\n",
    "    chunk_size=1000,\n",
    "    chunk_overlap=0,\n",
    ")\n",
    "character_split_texts = character_splitter.split_text('\\n\\n'.join(pdf_texts))\n",
    "\n",
    "# print the first 5 chunks\n",
    "for i in range(5):\n",
    "    print(\"Chunk#=\" + str(i) + \" Chunk=\" + character_split_texts[i],\"\\n\")\n",
    "\n",
    "print(f\"\\nTotal chunks: {len(character_split_texts)}\")"
   ]
  },
  {
   "cell_type": "markdown",
   "id": "501100fb",
   "metadata": {},
   "source": [
    "\n",
    "For Example: chunk0\n",
    "\n",
    "- 960 characters\n",
    "- 155 words\n",
    "- 193 tokens\n",
    "\n",
    "[Check out the OpenAI tokenizer](https://platform.openai.com/tokenizer)\n",
    "\n"
   ]
  },
  {
   "cell_type": "markdown",
   "id": "bddb6651",
   "metadata": {},
   "source": [
    "## SentenceTransformersTokenTextSplitter\n",
    "Splitting text to tokens using sentence model tokenizer. The default model is `sentence-transformers/all-mpnet-base-v2'`"
   ]
  },
  {
   "cell_type": "markdown",
   "id": "59bf7ee8",
   "metadata": {},
   "source": [
    "This splitter is designed to break down text using semantic units, such as sentences or clauses, often based on token counts (where a token could be a word, subword, or punctuation mark). It uses models from the SentenceTransformers library to understand and split text in a semantically meaningful way."
   ]
  },
  {
   "cell_type": "code",
   "execution_count": 29,
   "id": "5665c695-22ea-4264-b1ac-5ba720b6d78b",
   "metadata": {
    "height": 166
   },
   "outputs": [
    {
     "name": "stdout",
     "output_type": "stream",
     "text": [
      "Chunk#=0 Chunk= 1 dear shareholders, colleagues, customers, and partners : we are living through a period of historic economic, societal, and geopolitical change. the world in 2022 looks nothing like the world in 2019. as i write this, inflation is at a 40 - year high, supply chains are stretched, and the war in ukraine is ongoing. at the same time, we are entering a technological era with the potential to power awesome advancements across every sector of our economy and society. as the world ’ s largest software company, this places us at a historic intersection of opportunity and responsibility to the world around us. our mission to empower every person and every organization on the planet to achieve more has never been more urgent or more necessary. for all the uncertainty in the world, one thing is clear : people and organizations in every industry are increasingly looking to digital technology to overcome today ’ s challenges and emerge stronger. and no \n",
      "\n",
      "Chunk#=1 Chunk= company is better positioned to help them than microsoft. every day this past fiscal year i have had the privilege to witness our customers use our platforms and tools to connect what technology can do with what the world needs it to do. here are just a few examples : • ferrovial, which builds and manages some of the world ’ s busiest airports and highways, is using our cloud infrastructure to build safer roads as it prepares for a future of autonomous transportation. • peace parks foundation, a nonprofit helping protect natural ecosystems in southern africa, is using microsoft dynamics 365 and power bi to secure essential funding, as well as our azure ai and iot solutions to help rangers scale their park maintenance and wildlife crime prevention work. • one of the world ’ s largest robotics companies, kawasaki heavy industries, is using the breadth of our tools — from azure iot and hololens — to create an industrial metaverse solution that brings its distributed workforce \n",
      "\n",
      "Chunk#=2 Chunk= together with its network of connected equipment to improve productivity and keep employees safe. • globo, the biggest media and tv company in brazil, is using power platform to empower its employees to build their own solutions for everything from booking sets to setting schedules. • and ørsted, which produces a quarter of the world ’ s wind energy, is using the microsoft intelligent data platform to turn data from its offshore turbines into insights for predictive maintenance. amid this dynamic environment, we delivered record results in fiscal year 2022 : we reported $ 198 billion in revenue and $ 83 billion in operating income. and the microsoft cloud surpassed $ 100 billion in annualized revenue for the first time. our responsibility as a corporation, our purpose and actions must be aligned with addressing the world ’ s problems, not creating new ones. at our very core, we need to deliver innovation that helps drive broad economic growth. we, as a company, will do well \n",
      "\n",
      "Chunk#=3 Chunk= when the world around us does well. that ’ s what i believe will lead to widespread human progress and ultimately improve the lives of everyone. there is no more powerful input than digital technology to drive the world ’ s economic output. this is the core thesis for our being as a company, but it ’ s not enough. as we drive global economic growth, we must also commit to creating a more inclusive, equitable, sustainable, and trusted future. support inclusive economic growth we must ensure the growth we drive reaches every person, organization, community, and country. this starts with increasing access to digital skills. this year alone, more than 23 million people accessed digital skills training as part of our global skills initiative. \n",
      "\n",
      "Chunk#=4 Chunk= 2 but skills alone aren ’ t enough — we need to help people better prepare for and connect to jobs. that ’ s why we ’ ve committed to equip 10 million people from underserved communities with skills for jobs in the digital economy by 2025. one area of digital skills has become especially critical : cybersecurity. cybersecurity is a significant threat for governments, businesses, and individuals around the world, yet there simply aren ’ t enough people with cybersecurity skills to fill open jobs. to help address this, we ’ ve committed to skill and recruit 250, 000 people into the us cybersecurity workforce by 2025 — especially those underrepresented in the field. and we ’ re helping an additional 24 countries with substantial cybersecurity workforce shortages close their gaps too. we also continue to deliver affordable, relevant cloud technology and industry - specific solutions to nonprofit organizations \n",
      "\n",
      "\n",
      "Total chunks: 349\n"
     ]
    }
   ],
   "source": [
    "from langchain.text_splitter import SentenceTransformersTokenTextSplitter\n",
    "\n",
    "token_splitter = SentenceTransformersTokenTextSplitter(chunk_overlap=0, tokens_per_chunk=256)\n",
    "\n",
    "token_split_texts = []\n",
    "for text in character_split_texts:\n",
    "    token_split_texts += token_splitter.split_text(text)\n",
    "\n",
    "# print the first 5 chunks\n",
    "for i in range(5):\n",
    "    print(\"Chunk#=\" + str(i) + \" Chunk=\",token_split_texts[i],\"\\n\")\n",
    "print(f\"\\nTotal chunks: {len(token_split_texts)}\")"
   ]
  },
  {
   "cell_type": "markdown",
   "id": "02a79f02",
   "metadata": {},
   "source": [
    "Note: for cleanup rm -rf ~/.cache/huggingface/hub/models--sentence-transformers--a"
   ]
  },
  {
   "cell_type": "markdown",
   "id": "3eda86ee",
   "metadata": {},
   "source": [
    "## Setting up the embeddings"
   ]
  },
  {
   "cell_type": "code",
   "execution_count": 30,
   "id": "c2a13d14-4484-46f0-8e67-277337f9d138",
   "metadata": {
    "height": 115
   },
   "outputs": [
    {
     "name": "stdout",
     "output_type": "stream",
     "text": [
      "Model used for embeddings:\n",
      "{'all-MiniLM-L6-v2': SentenceTransformer(\n",
      "  (0): Transformer({'max_seq_length': 256, 'do_lower_case': False}) with Transformer model: BertModel \n",
      "  (1): Pooling({'word_embedding_dimension': 384, 'pooling_mode_cls_token': False, 'pooling_mode_mean_tokens': True, 'pooling_mode_max_tokens': False, 'pooling_mode_mean_sqrt_len_tokens': False, 'pooling_mode_weightedmean_tokens': False, 'pooling_mode_lasttoken': False, 'include_prompt': True})\n",
      "  (2): Normalize()\n",
      ")}\n"
     ]
    }
   ],
   "source": [
    "import chromadb\n",
    "from chromadb.utils.embedding_functions import SentenceTransformerEmbeddingFunction\n",
    "\n",
    "embedding_function = SentenceTransformerEmbeddingFunction()\n",
    "model = embedding_function.models\n",
    "print(\"Model used for embeddings:\")\n",
    "print(model)"
   ]
  },
  {
   "cell_type": "markdown",
   "id": "0470bd3f",
   "metadata": {},
   "source": [
    "## Calculate embedding of the first chunk"
   ]
  },
  {
   "cell_type": "code",
   "execution_count": 31,
   "id": "b666d351",
   "metadata": {},
   "outputs": [
    {
     "name": "stdout",
     "output_type": "stream",
     "text": [
      "[[-0.05130084231495857, -0.011773279868066311, 0.04940269514918327, -0.07973462343215942, 0.01482198853045702, -0.017085712403059006, -0.03712102025747299, 0.010243200697004795, 0.029443394392728806, -0.01155102625489235, -0.029306042939424515, 0.059875961393117905, 0.04193371161818504, 0.0009110003593377769, -0.00024818183737806976, 0.055705610662698746, -0.095044806599617, -0.1123923659324646, -0.04467058181762695, -0.0028009042143821716, -0.024321122094988823, -0.01566249318420887, -0.049685437232255936, 0.017255669459700584, -0.041929569095373154, 0.02931785397231579, -0.021453693509101868, -0.07143814861774445, -0.03475289046764374, 0.021638259291648865, -0.015290451236069202, 0.05068206414580345, 0.029244009405374527, 0.04425172507762909, 0.03545272722840309, 0.022688942030072212, 0.06838447600603104, -0.020330004394054413, 0.01909978687763214, -0.0992356464266777, -0.011153746396303177, -0.12798883020877838, -0.03553144633769989, 0.016359351575374603, 0.06487606465816498, -0.01844027452170849, 0.030110634863376617, -0.0006478813593275845, -0.06114242970943451, 0.006255334708839655, -0.10472378134727478, -0.12337830662727356, 0.07177508622407913, -0.048764053732156754, -0.03534975275397301, 0.044411953538656235, 0.08683332800865173, -0.01289006695151329, 0.0564454086124897, -0.05071080103516579, -0.00845264084637165, -0.09816177934408188, 0.012324193492531776, 0.08457750082015991, 0.08165618032217026, 0.02790982276201248, 0.07864919304847717, 0.04336829483509064, -0.09593530744314194, 0.041537653654813766, 0.01476534828543663, -0.01653478853404522, 0.009354823268949986, 0.004344927612692118, -0.02466086484491825, -0.008336439728736877, -0.003904329612851143, 0.03367547318339348, 0.09030518680810928, 0.008840380236506462, 0.15036733448505402, -0.04859573394060135, -0.014597385190427303, 0.006700057536363602, -0.17416898906230927, 0.006586676463484764, 0.014772525988519192, -0.0022403330076485872, 0.024144336581230164, -0.004365656990557909, -0.06448408216238022, 0.012195853516459465, 0.06977041810750961, 0.07973507791757584, -0.054248787462711334, -0.0043095932342112064, 0.0003075063577853143, -0.032916657626628876, -0.013122204691171646, 0.027751607820391655, 0.004999457858502865, 0.08341740071773529, 0.0275201927870512, -0.10297174751758575, -0.04937877878546715, -0.04716356098651886, -0.012486248277127743, 0.036029282957315445, 0.006898247171193361, 0.004075478762388229, -0.042861707508563995, -0.008123848587274551, -0.042281050235033035, -0.08126316964626312, -0.00017323131032753736, -0.04409199580550194, -0.06307252496480942, 0.059594783931970596, 0.0690767914056778, -0.005534640979021788, 0.03482581302523613, 0.05111869052052498, -0.10269798338413239, 0.019466673955321312, 0.013708280399441719, -0.0073251137509942055, -0.02759259194135666, 3.0317615612439175e-33, -0.01441376656293869, 0.03582144156098366, -0.002160661155357957, 0.07015116512775421, -0.03095845878124237, 0.03819297254085541, -0.010284057818353176, 0.024408739060163498, -0.07152146100997925, -0.03928840532898903, -0.029540756717324257, 0.0463060662150383, -0.027168162167072296, 0.06463054567575455, 0.10263710469007492, -0.10057976096868515, -0.02902194671332836, 0.01661449484527111, 0.09004932641983032, 0.016286581754684448, 0.053544431924819946, -0.038163356482982635, -0.008791600354015827, -0.01997949928045273, 0.0351753905415535, -0.007334859110414982, 0.002680771052837372, 0.013374164700508118, 0.08142334967851639, 0.013981461524963379, 0.01280132681131363, 0.00529330363497138, 0.012713979929685593, -0.04236644133925438, -0.04484281688928604, -0.01825983263552189, -0.09511498361825943, -0.01754748448729515, 0.03324832767248154, -0.002946110675111413, -0.0573788546025753, 0.054659005254507065, -0.0931561142206192, -0.057977840304374695, 0.07579109072685242, 0.003136260900646448, 0.12044917047023773, 0.02067413181066513, -0.020472735166549683, 0.045800529420375824, -0.06194440275430679, 0.03642617538571358, -0.0414595827460289, 0.022064434364438057, 0.0713953748345375, -0.07250919193029404, -0.013880426064133644, -0.08454499393701553, 0.04669974744319916, -0.02850118838250637, 0.014444881118834019, -0.022920353338122368, 0.0071226730942726135, 0.05020378530025482, -0.045165710151195526, 0.054237060248851776, 0.07352877408266068, 0.005797436460852623, -0.05278401076793671, 0.0903891921043396, 0.025656815618276596, -0.052205879241228104, -0.042719777673482895, -0.0013142847456037998, -0.03342842310667038, 0.03854468837380409, 0.013287780806422234, -0.06187235563993454, 0.003143532667309046, 0.01396163459867239, -0.033621806651353836, 0.037727393209934235, 0.08867228031158447, 0.025464404374361038, 0.0718490481376648, 0.04027116671204567, 0.0405019111931324, 0.018275532871484756, -0.0261406060308218, 0.08376872539520264, -0.11482618749141693, -0.046824272722005844, 0.008526522666215897, 0.10563179105520248, 0.024292783811688423, -6.364311555712119e-33, 0.018954267725348473, 0.0015130008105188608, 0.003951330669224262, 0.006927921902388334, -0.01349264569580555, -0.06913822889328003, 0.0007894782465882599, 0.03157821670174599, 0.043658237904310226, 0.046862710267305374, 0.015247471630573273, 0.013004262000322342, 0.021598920226097107, 0.03361069783568382, -0.060907185077667236, -0.05978504568338394, 0.07211094349622726, -0.12070731073617935, -0.04531429708003998, -0.08660358935594559, 0.006161453202366829, 0.011801335029304028, -0.07755762338638306, 0.053652647882699966, -0.022166287526488304, 0.04151955991983414, 0.048353586345911026, -0.05181082710623741, -0.001471587223932147, 0.03893253207206726, -0.0792359933257103, -0.06241367384791374, 0.003488599555566907, 0.07706449925899506, 0.06749078631401062, -0.027325719594955444, 0.04065079241991043, -0.09661475569009781, 0.008977814577519894, 0.027113545686006546, 0.008426058106124401, 0.039132822304964066, -0.07368126511573792, 0.00032878387719392776, -0.021962054073810577, 0.01434643566608429, 0.027726590633392334, -0.011666124686598778, 0.022913295775651932, -0.05782049894332886, 0.04605111479759216, 0.025136638432741165, 0.031543467193841934, -0.03350566327571869, -0.029328005388379097, -0.010165272280573845, 0.01909322291612625, -0.013475460931658745, -0.009461027570068836, 0.002689072396606207, -0.03597971796989441, -0.019753681495785713, -0.0030208746902644634, 0.03998182341456413, -0.01810181327164173, -0.025797143578529358, 0.0485587902367115, 0.08148235827684402, -0.05360708013176918, 0.009586612693965435, 0.07334865629673004, -0.033985208719968796, -0.1646309345960617, -0.046293724328279495, -0.06495365500450134, 0.03381037339568138, -0.009244201704859734, -0.011534188874065876, -0.036595094949007034, -0.009462631307542324, 0.05156518891453743, 0.10053887963294983, 0.056154172867536545, -0.004771171137690544, 0.0024648127146065235, 0.022198449820280075, 0.0291178859770298, -0.043619513511657715, -0.12596462666988373, -0.0484941266477108, -0.15412411093711853, -0.01065719686448574, -0.07892891764640808, 0.018986742943525314, -0.008998162113130093, -6.561410970107318e-08, -0.01812102273106575, -0.036647457629442215, 0.024271806702017784, 0.0239961389452219, 0.024297015741467476, -0.032578349113464355, 0.053483765572309494, 0.042326342314481735, 0.025636333972215652, 0.05491068214178085, 0.02980870008468628, -0.051780879497528076, -0.011935989372432232, 0.05994441732764244, 0.04813258722424507, 0.06666204333305359, -0.09307701140642166, 0.010385951027274132, -0.05345214530825615, -0.021931784227490425, 0.06251192837953568, 0.021128110587596893, 0.028719240799546242, -0.05276063084602356, -0.009427863173186779, -3.5598845897766296e-06, -0.004950494971126318, 0.009607968851923943, -0.0014825871912762523, 0.0026094214990735054, -0.049253836274147034, -0.04849313199520111, -0.045481033623218536, -0.03737273067235947, -0.05171271786093712, -0.07445814460515976, 0.02530929446220398, 0.037896528840065, 0.02090633101761341, -0.04679902642965317, -0.03383179008960724, 0.033793557435274124, -0.011521019972860813, 0.04303058236837387, -0.018841274082660675, -0.13982751965522766, -0.05612456053495407, 0.03027314879000187, -0.017181381583213806, -0.02422258071601391, -0.060056813061237335, 0.0038096599746495485, 0.014961677603423595, 0.07095222175121307, 0.04534655809402466, -0.012426492758095264, -0.02881469763815403, 0.058703821152448654, -0.08985737711191177, 0.09533289074897766, 0.07635076344013214, -0.1251610517501831, -0.033546168357133865, 0.025717707350850105]]\n"
     ]
    }
   ],
   "source": [
    "embedding = embedding_function([token_split_texts[0]])\n",
    "print(embedding)"
   ]
  },
  {
   "cell_type": "markdown",
   "id": "f7f6c236",
   "metadata": {},
   "source": [
    "## Setting up the ChromaDB vector database"
   ]
  },
  {
   "cell_type": "code",
   "execution_count": 32,
   "id": "8ba6c8c5-9ce4-44d0-9223-6fdd77871f87",
   "metadata": {
    "height": 149
   },
   "outputs": [],
   "source": [
    "#chroma_client = chromadb.Client()\n",
    "#chroma_client = chromadb.Client(persist_directory=\"../data/chroma_db/\")\n",
    "from chromadb.config import DEFAULT_TENANT, DEFAULT_DATABASE, Settings\n",
    "\n",
    "chroma_client = chromadb.PersistentClient(\n",
    "    path=\"data/chroma_db/\",\n",
    "    settings=Settings(),\n",
    "    tenant=DEFAULT_TENANT,\n",
    "    database=DEFAULT_DATABASE,\n",
    ")\n",
    "\n",
    "COLLECTION_NAME = \"microsoft_annual_report_2022\"\n",
    "\n",
    "# Removing any existing collection\n",
    "#collection = chroma_client.get_collection(COLLECTION_NAME)\n",
    "#if (collection):\n",
    "#    chroma_client.delete_collection(COLLECTION_NAME)\n",
    "\n",
    "# The default is Euclidean distance\n",
    "#chroma_collection = chroma_client.create_collection(\"microsoft_annual_report_2022\", embedding_function=embedding_function)\n",
    "chroma_collection = chroma_client.create_collection(COLLECTION_NAME, embedding_function=embedding_function,metadata={\"hnsw:space\": \"cosine\"})"
   ]
  },
  {
   "cell_type": "markdown",
   "id": "e18f4611",
   "metadata": {},
   "source": [
    "## Index all chunks in the vector database"
   ]
  },
  {
   "cell_type": "code",
   "execution_count": 33,
   "id": "13daebc6",
   "metadata": {},
   "outputs": [
    {
     "data": {
      "text/plain": [
       "349"
      ]
     },
     "execution_count": 33,
     "metadata": {},
     "output_type": "execute_result"
    }
   ],
   "source": [
    "ids = [str(i) for i in range(len(token_split_texts))]\n",
    "\n",
    "chroma_collection.add(ids=ids, documents=token_split_texts)\n",
    "\n",
    "# Print the number of documents indexed\n",
    "chroma_collection.count()"
   ]
  },
  {
   "cell_type": "markdown",
   "id": "ce5b550a",
   "metadata": {},
   "source": [
    "## Helper function to print the results our vector search"
   ]
  },
  {
   "cell_type": "code",
   "execution_count": 34,
   "id": "448ade64",
   "metadata": {},
   "outputs": [],
   "source": [
    "def print_results_and_documents(results, retrieved_documents, word_wrap):\n",
    "    \"\"\"\n",
    "    Prints keys and values from the results dictionary and documents with word wrapping.\n",
    "\n",
    "    Args:\n",
    "        results (dict): A dictionary where keys are strings and values are either strings or lists.\n",
    "        retrieved_documents (list): A list of documents to be printed.\n",
    "        word_wrap (function): A function to apply word wrapping to the documents.\n",
    "\n",
    "    Returns:\n",
    "        None\n",
    "    \"\"\"\n",
    "    # Iterate through the dictionary and print each key with its associated value\n",
    "    for key, value in results.items():\n",
    "        print(f\"{key}:\")\n",
    "\n",
    "        # Check if the value is a list and print its elements\n",
    "        if isinstance(value, list):\n",
    "            for i, item in enumerate(value):\n",
    "                print(f\"  Item {i+1}: {item}\")\n",
    "        else:\n",
    "            # Directly print the value if it's not a list\n",
    "            print(f\"  {value}\")\n",
    "\n",
    "        print()  # Add a newline for better readability\n",
    "\n",
    "    # Iterate through the list of documents and print each one with word wrapping\n",
    "    for document in retrieved_documents:\n",
    "        print(word_wrap(document))\n",
    "        print('\\n')"
   ]
  },
  {
   "cell_type": "markdown",
   "id": "ab9f0a8b",
   "metadata": {},
   "source": [
    "## Searching the vector database"
   ]
  },
  {
   "cell_type": "code",
   "execution_count": 35,
   "id": "bfdb54db-a442-423c-b006-c33a257cd7d7",
   "metadata": {
    "height": 149
   },
   "outputs": [
    {
     "name": "stdout",
     "output_type": "stream",
     "text": [
      "ids:\n",
      "  Item 1: ['321', '293', '331', '319', '194']\n",
      "\n",
      "distances:\n",
      "  Item 1: [0.3957172876850713, 0.4243314862251282, 0.4562008321326718, 0.4578593225401921, 0.4580157399177551]\n",
      "\n",
      "metadatas:\n",
      "  None\n",
      "\n",
      "embeddings:\n",
      "  Item 1: [[0.006851615849882364, -0.07879453152418137, -0.013295024633407593, -0.018663959577679634, -0.01320614479482174, 0.05207332223653793, 0.024349980056285858, 0.029772840440273285, 0.0398593433201313, 0.08490502089262009, -0.0272703617811203, 0.04178402200341225, 0.050083816051483154, -0.021252332255244255, -0.029229924082756042, 0.003365496639162302, 0.025213973596692085, -0.11350663006305695, 0.02950187586247921, -0.01701783761382103, -0.014468980953097343, 0.03350761905312538, -0.055656228214502335, -0.038956690579652786, 0.02398926019668579, 0.006582111585885286, -0.054270368069410324, -0.02146941050887108, -0.015810992568731308, -0.06164819747209549, -0.07168304920196533, 0.031110158190131187, -0.007594883441925049, 0.08013573288917542, 0.0024636457674205303, -0.0794009268283844, -0.026453763246536255, -0.03616456314921379, 0.042043257504701614, -0.029158076271414757, 0.052296146750450134, -0.12174953520298004, -0.0895911306142807, 0.023505136370658875, 0.00869675725698471, 0.009846446104347706, -0.06451244652271271, 0.03303525596857071, -0.014035273343324661, 0.1266443431377411, -0.03390798345208168, 0.04131409525871277, 0.051076654344797134, 0.04261544719338417, -0.0025622383691370487, -0.06717958301305771, 0.032254625111818314, -0.022870073094964027, 0.004029317758977413, 0.004566309042274952, -0.028162634000182152, -0.0974501445889473, -0.016693275421857834, -0.030547911301255226, 0.024295248091220856, 0.032701291143894196, -0.04002657160162926, -0.02863091230392456, -0.0815267264842987, -0.040514104068279266, 0.012492661364376545, -0.02908824011683464, -0.0019514787709340453, -0.01695578545331955, -0.06296040117740631, 0.009435056708753109, 0.07816182076931, 0.03841983899474144, 0.04872538894414902, -0.0435977578163147, 0.02489575184881687, 0.04331740364432335, -0.0679943859577179, 0.0640188679099083, -0.06136608496308327, -0.008233067579567432, 0.04646380990743637, 0.019164349883794785, 0.06955380737781525, 0.019357843324542046, -0.02788868546485901, 0.009480309672653675, 0.006482371129095554, -0.005785892251878977, -0.08165444433689117, 0.011451969854533672, -0.03196265175938606, -0.07447295635938644, 0.06807132065296173, 0.02325223758816719, 0.020229453220963478, 0.08226098865270615, 0.057013578712940216, -0.11353033781051636, -0.060608018189668655, -0.04336613789200783, 0.019086504355072975, 0.0635712519288063, 0.024235723540186882, -0.004953830037266016, -0.042623553425073624, -0.04346412420272827, -0.057600002735853195, -0.014548101462423801, 0.05341241881251335, -0.0239095538854599, -0.041928235441446304, 0.016857802867889404, 0.0653558149933815, -0.0006083332118578255, 0.05602196604013443, 0.06329340487718582, 0.0076483809389173985, -0.009553785435855389, -0.07489017397165298, 0.0368301086127758, -0.09185855090618134, 7.272480858742156e-33, -0.01699148863554001, 0.009861013852059841, 0.06774388998746872, -0.08073064684867859, 0.024476438760757446, 0.017338238656520844, 0.038091156631708145, 0.057225216180086136, -0.03605981171131134, 0.018283354118466377, -0.08826837688684464, 0.1156381219625473, 0.019457390531897545, 0.044132646173238754, 0.09537700563669205, -0.02387254312634468, 0.07185279577970505, 0.10126000642776489, 0.0383390448987484, -0.05620572715997696, 0.08334188163280487, -0.0386086106300354, 0.019653474912047386, 0.04747531935572624, 0.04349001497030258, 0.008506727404892445, -0.0560910664498806, 0.004938174970448017, 0.07883815467357635, 0.01116974838078022, 0.057611074298620224, 0.026162240654230118, 0.08366316556930542, -0.01942448318004608, -0.012520129792392254, -0.02198602445423603, -0.01961316168308258, -0.026736704632639885, 0.0592166930437088, 0.0212898887693882, -0.03800990805029869, 0.09739711880683899, -0.003588033141568303, -0.04699274152517319, -0.09501338005065918, 0.016678806394338608, 0.065521240234375, -0.02383936196565628, 0.034623660147190094, 0.025438299402594566, -0.04965939745306969, 0.012940664775669575, -0.02645960822701454, 0.04614035040140152, -0.03289753571152687, -0.026371855288743973, 0.0025303573347628117, -0.08143095672130585, 0.06783490628004074, 0.04202369228005409, -0.029860179871320724, -0.017926588654518127, 0.03459806740283966, -0.03491468355059624, -0.100886270403862, 0.016454758122563362, 0.06801477074623108, 0.04062549024820328, -0.005255130119621754, 0.06343206018209457, 0.04663122445344925, -0.008017411455512047, 0.06603731215000153, -0.04952201619744301, 0.00975552387535572, -0.002648852998390794, 0.0269479937851429, -0.06649940460920334, 0.02548920176923275, 0.042705126106739044, -0.0003986139199696481, 0.03546268865466118, 0.05966510996222496, -0.010431157425045967, -0.003967576194554567, 0.03767361491918564, 0.01842012070119381, 0.004361795261502266, -0.021330758929252625, 0.03806237876415253, -0.05545230954885483, -0.025859903544187546, -0.04763590171933174, 0.048640619963407516, -0.07601581513881683, -7.604243568110607e-33, -0.07344488799571991, 0.09745258092880249, -0.0054680840112268925, -0.018999192863702774, -0.03921632096171379, 0.007538901641964912, 0.04340992495417595, 0.09553234279155731, -0.023300670087337494, 0.025167666375637054, -0.02199232019484043, 0.022007018327713013, -0.022157616913318634, 0.023817554116249084, -0.056949395686388016, -0.017619451507925987, 0.004981831181794405, -0.03427174314856529, -0.02539065293967724, -0.05825696140527725, -0.037699926644563675, 0.10038847476243973, 0.028870588168501854, 0.0708998516201973, 0.020497998222708702, 0.07813745737075806, -0.03913776949048042, -0.04537520930171013, 0.027943944558501244, 0.025173258036375046, 0.005607331171631813, -0.054689981043338776, -0.005514407530426979, 0.030555158853530884, 0.031576257199048996, -0.01845989190042019, 0.0800185352563858, -0.02448856830596924, 0.044608891010284424, -0.03689906373620033, 0.036544136703014374, -0.03453640639781952, 0.0012807981111109257, 0.031802840530872345, 0.022274723276495934, -0.021695978939533234, -0.049864936619997025, 0.00694112665951252, 0.006731874775141478, -0.055624403059482574, -0.045006055384874344, 0.04283539950847626, -0.08939643204212189, 0.061892494559288025, -0.08485119789838791, 0.04963880404829979, -0.01990409940481186, 0.03553222864866257, -0.03628017008304596, -0.06433572620153427, 0.019237659871578217, 0.03567647561430931, -0.016488442197442055, 0.03598874434828758, 0.01622193679213524, -0.021093333140015602, 0.08458467572927475, -0.05832050368189812, -0.013368549756705761, -0.08650366961956024, -0.006303651258349419, -0.01744396612048149, -0.10109702497720718, -0.08392015099525452, -0.04930223897099495, 0.0903886929154396, 0.026730408892035484, -0.043488677591085434, 0.035198599100112915, 0.029596438631415367, 0.000764240394346416, 0.008915956132113934, 0.05092420428991318, -0.08646989613771439, -0.025325734168291092, -0.07823128998279572, 0.05306725576519966, -0.03783164918422699, -0.0937676876783371, 0.0711875706911087, -0.16469886898994446, -0.07743572443723679, -0.08728726208209991, 0.042223840951919556, 0.06995663046836853, -6.279758224536636e-08, 0.009724569506943226, 0.05882478877902031, 0.03791605681180954, 0.05165001377463341, 0.04909083992242813, -0.09582573175430298, 0.08283206075429916, 0.17456695437431335, 0.007053261157125235, 0.0032526652794331312, 0.0382625088095665, -0.08221925050020218, -0.0670492872595787, 0.011436034925282001, 0.004519721958786249, 0.0732104629278183, -0.10000523924827576, 0.011551694013178349, 0.004072241950780153, -0.02476324513554573, 0.0037628260906785727, 0.08969292789697647, 0.04325591027736664, -0.07049272209405899, -0.07027700543403625, -0.02122589200735092, -0.0031396399717777967, 0.07667729258537292, -0.033731311559677124, -0.008860926143825054, 0.039651405066251755, -0.05265248566865921, -0.002657105680555105, -0.03372008353471756, 0.027111217379570007, -0.013965762220323086, -0.10402384400367737, -0.019138583913445473, -0.01976502500474453, 0.0793115571141243, 3.581760392989963e-05, -0.04066295921802521, -0.011129156686365604, 0.06912578642368317, 0.04132850468158722, -0.03187982738018036, -0.16479042172431946, -0.027391621842980385, 0.03413093462586403, -0.09790564328432083, 0.0016591765452176332, -0.0021045152097940445, 0.0159024465829134, 0.016426242887973785, 0.009373294189572334, -0.016126589849591255, -0.00992529559880495, -0.04131392389535904, -0.030500782653689384, 0.05646472051739693, 0.05137544125318527, -0.13746701180934906, -0.015871942043304443, -0.0016717709368094802], [-0.03204353153705597, -0.011031800881028175, -0.005550306756049395, -0.07834590971469879, -0.030244268476963043, -0.023409761488437653, 0.016301453113555908, 0.013620798476040363, 0.062341850250959396, 0.028363723307847977, -0.031811606138944626, 0.03882494196295738, -0.005121913738548756, -0.07732575386762619, -0.0020310585387051105, -0.033743489533662796, 0.007215819321572781, -0.08928801864385605, -0.007496771868318319, 0.02384920045733452, 0.07187651842832565, 0.04152496159076691, -0.10415901988744736, -0.014804007485508919, 0.03842030093073845, 0.019606884568929672, -0.0448729582130909, -0.05617343634366989, 0.039571356028318405, -0.06365083158016205, -0.009347546845674515, 0.032502226531505585, 0.05432555824518204, 0.06466910243034363, 0.06731411814689636, -0.045296650379896164, -0.023266682401299477, -0.0007031100685708225, 0.059441789984703064, -0.02299428917467594, 0.017130227759480476, -0.11354183405637741, -0.14027470350265503, -0.0014843674143776298, 0.025981251150369644, -0.0025961650535464287, -0.02442978136241436, -0.0027173617854714394, -0.07021631300449371, 0.10242392122745514, -0.03757542371749878, 0.012173676863312721, 0.03292638808488846, 0.1013656035065651, -0.03717784583568573, -0.06144869700074196, 0.057066790759563446, -0.028790781274437904, 0.004035897087305784, -0.01797799952328205, -0.049674924463033676, -0.10771206021308899, -0.014572003856301308, -0.006197135895490646, -0.023028234019875526, -0.0014429320581257343, 0.002774431137368083, 0.0003049992665182799, -0.09529278427362442, -0.005204426124691963, 0.00044015070307068527, -0.030600041151046753, -0.04081999510526657, -0.024456579238176346, -0.020032331347465515, -0.003597850678488612, 0.07085192948579788, 0.07540283352136612, 0.025675876066088676, -0.07390724122524261, 0.060665205121040344, 0.027754615992307663, -0.07972730696201324, 0.00033567112404853106, -0.0496210977435112, -0.040128566324710846, 0.03193996846675873, 0.03573363646864891, 0.08043686300516129, 0.026930291205644608, -0.04762322083115578, 0.04432685673236847, 0.0814203992486, 0.013766993768513203, -0.014074995182454586, -0.009479431435465813, 0.02223133109509945, -0.09095560759305954, 0.11675740778446198, 0.0577121302485466, 0.006957696750760078, 0.10092466324567795, 0.05268458276987076, -0.08971025794744492, -0.018673483282327652, -0.02744583785533905, -0.00021173951972741634, 0.04681537672877312, 0.01216100063174963, -0.040228184312582016, -0.015638384968042374, -0.016261007636785507, -0.009368243627250195, -0.00033910461934283376, 0.06762059032917023, 0.0003491212264634669, -0.07108371704816818, 0.04332909733057022, 0.04807710275053978, 0.02272908389568329, 0.07200710475444794, 0.03610776364803314, 0.033534660935401917, 0.023854605853557587, -0.05950259789824486, -0.005379681941121817, -0.11101745814085007, 7.975178157352273e-33, -0.033028002828359604, -0.07428732514381409, 0.030279025435447693, -0.07555536180734634, -0.01565583050251007, 0.03815123811364174, 0.014570416882634163, 0.06176907941699028, -0.013208603486418724, -0.038426294922828674, -0.04216450825333595, 0.07093467563390732, 0.00883723795413971, 0.05318744480609894, 0.0785302147269249, -0.04141340032219887, 0.012687687762081623, 0.07220335304737091, 0.1371689885854721, -0.013014190830290318, 0.09322977066040039, -0.058837082237005234, -0.008846992626786232, 0.019640831276774406, 0.0289167333394289, 0.020185384899377823, -0.03084506094455719, -0.0037219065707176924, 0.058138951659202576, 0.028419850394129753, 0.039895493537187576, 0.018719229847192764, 0.1109810546040535, 0.0035882149823009968, -0.012319514527916908, -0.004119254648685455, -0.028459152206778526, -0.006358437705785036, 0.09117666631937027, -0.0005243310588411987, -0.014144142158329487, 0.051494013518095016, 0.046252232044935226, -0.07490766048431396, -0.10673996061086655, 0.007685271091759205, 0.11758728325366974, 0.018516087904572487, 0.04103737697005272, 0.0644010454416275, -0.039129890501499176, 0.015060323290526867, -0.020945781841874123, -0.07305214554071426, -0.05531958118081093, -0.04850484058260918, -0.04618080332875252, -0.07155167311429977, 0.02476860210299492, 0.01372347678989172, -0.03394283354282379, 0.015686769038438797, 0.03497615084052086, 0.026319283992052078, -0.09936174750328064, 0.04741254821419716, 0.03397971764206886, 0.04811393469572067, -0.013213972561061382, 0.01930929534137249, 0.0020397105254232883, -0.047736380249261856, -0.002242633141577244, -0.01655380241572857, 0.021571917459368706, -0.04256589710712433, 0.024888955056667328, -0.01477515883743763, -0.004910072311758995, 0.07458747178316116, 0.004022944252938032, 0.030190568417310715, -0.003716462291777134, -0.029415516182780266, 0.003858372801914811, 0.08138707280158997, 0.06168645620346069, 0.02416878007352352, -0.029374675825238228, 0.07304371893405914, -0.017746610566973686, -0.03987133875489235, -0.10265278816223145, 0.08511900156736374, -0.008029138669371605, -9.09879133031705e-33, -0.007329361047595739, 0.08308964967727661, -0.07082414627075195, 0.055379774421453476, -0.015431638807058334, 0.02941562421619892, 0.0932796373963356, 0.08388041704893112, -0.06537910550832748, -0.014928692951798439, -0.03157870098948479, 0.0440676212310791, -0.06430614739656448, 0.036640480160713196, -0.06274845451116562, -0.043770041316747665, -0.016069374978542328, -0.01115095429122448, -0.019727041944861412, -0.01184691023081541, -0.007738067768514156, 0.08135320991277695, -0.030008237808942795, 0.023333808407187462, 0.0110332565382123, 0.059990961104631424, -0.08510669320821762, -0.004242079332470894, -0.00855285208672285, 0.021063826978206635, -0.018118586391210556, -0.019693758338689804, -0.08291011303663254, -0.011573432013392448, -0.03844112157821655, -0.07007286697626114, 0.011013904586434364, -0.014724815264344215, 0.008776642382144928, -0.05048758536577225, 0.04180615767836571, -0.009938566014170647, -0.03612764552235603, -0.03358357027173042, 0.03884020447731018, -0.0009825119050219655, -0.0010924895759671926, -0.005368946585804224, 0.01314586028456688, -0.026940220966935158, -0.0005122768925502896, 0.025506434962153435, -0.05460904538631439, 0.058695174753665924, -0.05586399883031845, 0.0625578835606575, 0.03326888009905815, 0.016553115099668503, -0.00413119699805975, -0.025938531383872032, 0.031279340386390686, 0.008753049187362194, 0.022215446457266808, 0.001980849774554372, 0.001666540396399796, -0.0487290620803833, 0.08600877970457077, -0.0031544826924800873, 0.035797368735075, -0.08434046059846878, 0.023653512820601463, -0.014956970699131489, -0.1370704621076584, -0.10615503042936325, -0.07124516367912292, 0.09055142849683762, 0.044520337134599686, -0.06808768212795258, 0.03128698840737343, -0.03287087008357048, -0.014050796627998352, 0.038401369005441666, 0.05754067748785019, -0.05266739800572395, -0.06721600890159607, -0.04954690486192703, 0.03353647142648697, -0.09044044464826584, -0.0786295086145401, 0.07884484529495239, -0.1406714767217636, -0.025190509855747223, -0.053876761347055435, 0.04777449369430542, 0.03268211707472801, -5.677456726971286e-08, 0.026021433994174004, 0.044661637395620346, 0.04385298490524292, 0.0670744851231575, 0.054518770426511765, -0.12605151534080505, 0.03199212625622749, 0.07580498605966568, 0.02443055622279644, -0.035241443663835526, 0.047752413898706436, -0.10108866542577744, -0.02074740268290043, 0.0034169992431998253, 0.006432998459786177, 0.07214908301830292, -0.02228826843202114, 0.023455118760466576, -0.02889646589756012, -0.035948801785707474, -0.009873554110527039, 0.019146062433719635, 0.010831497609615326, -0.04308244213461876, -0.022460218518972397, -0.05947704613208771, 0.03611670061945915, 0.09517577290534973, 0.007699103560298681, -0.04681422933936119, 0.011036958545446396, -0.005902917589992285, -0.015675032511353493, -0.07332905381917953, 0.031659409403800964, -0.049725886434316635, -0.10590381920337677, -0.028212949633598328, 0.018775617703795433, 0.02321985550224781, 0.0033075560349971056, 0.00155253941193223, 0.003342238487675786, 0.050358206033706665, 0.022355547174811363, -0.08749359101057053, -0.15472756326198578, -0.027774019166827202, 0.020557014271616936, -0.04284015670418739, 0.05256285518407822, 0.025778036564588547, 0.025505097582936287, 0.012891305610537529, 0.10013177245855331, -0.03858250752091408, -0.016617292538285255, 3.719657252077013e-05, -0.07066325843334198, 0.06934286653995514, 0.10503330081701279, -0.10675487667322159, -0.028164848685264587, -0.0646468922495842], [0.0031277688685804605, 0.015990979969501495, -0.04435139521956444, 0.017078345641493797, -0.025723177939653397, -0.024099543690681458, -0.014212585054337978, 0.045197732746601105, 0.09847766906023026, 0.046545784920454025, 0.04871556907892227, 0.015234577469527721, 0.021121937781572342, 0.005490277893841267, 0.022844575345516205, -0.10752257704734802, -0.06729838997125626, 0.0422588512301445, 0.01562531664967537, -0.011092870496213436, 0.03769996762275696, -1.1286339940852486e-05, 0.009678736329078674, 0.016736570745706558, 0.07478535175323486, -0.00830145925283432, -0.09254465252161026, 0.03183552250266075, 0.028969934210181236, -0.04106467589735985, -0.010666646994650364, 0.012151475995779037, 0.06393131613731384, 0.012449519708752632, 0.028950240463018417, -0.013995482586324215, -0.01262481976300478, 0.027229435741901398, 0.05064721778035164, 0.018056172877550125, -0.0463629774749279, -0.07439550012350082, -0.00961859431117773, 0.010650464333593845, -0.023021003231406212, -0.006825926247984171, -0.03866249695420265, 0.04974379017949104, -0.13313999772071838, 0.1625262200832367, -0.08030882477760315, 0.052027005702257156, 0.0028133406303822994, 0.020838093012571335, 0.06820055097341537, 0.06018101051449776, 0.0002883896231651306, -0.04461396485567093, -0.04163910821080208, 0.0071241362020373344, -0.08306285738945007, -0.008480753749608994, -0.08342938870191574, 0.03548473119735718, 0.052838284522295, 0.02238132618367672, -0.050643179565668106, 0.01859435997903347, -0.07912883162498474, -0.022573625668883324, 0.05389472842216492, -0.05005925893783569, -0.02861643396317959, -0.015577688813209534, -0.08196431398391724, -0.014581161551177502, 0.06619337201118469, 0.06206844002008438, 0.011472937650978565, -0.01463734358549118, -0.0037136049941182137, 0.023676062002778053, -0.028164850547909737, -0.011879660189151764, 0.05139879882335663, 0.0003885574114974588, 0.0986301451921463, 0.04895218461751938, 0.029080558568239212, -0.052150413393974304, 0.010999945923686028, -0.025151140987873077, -0.01869150996208191, -0.02154412493109703, -0.07397349923849106, 0.0007883906946517527, -6.256507185753435e-05, -0.009072603657841682, 0.15150494873523712, 0.013948566280305386, 0.02698548138141632, 0.03820173442363739, -0.004304393194615841, -0.08854683488607407, -0.05284504219889641, -0.076754130423069, 0.011754621751606464, 0.043523773550987244, 0.05017497390508652, 0.02559047006070614, -0.04141013324260712, 0.014852350577712059, -0.03660965338349342, -0.048307452350854874, 0.06327271461486816, 0.015000329352915287, -0.10914682596921921, -0.004805624485015869, 0.16412554681301117, -0.012604947201907635, 0.03502056747674942, 0.049418654292821884, 0.104800283908844, -0.010874849744141102, -0.07115737348794937, -0.0015858164988458157, 0.004743142519146204, -3.234039159765478e-33, -0.09651850163936615, -0.06728126853704453, 0.00820629857480526, -0.0674307569861412, -0.01260343287140131, 0.03698044642806053, -0.010917751118540764, 0.027159640565514565, 0.05658156797289848, -0.0038351560942828655, -0.051527831703424454, 0.06432114541530609, 0.0278237946331501, -0.0006914937403053045, 0.05012816563248634, 0.02891896665096283, -0.008054188452661037, 0.09367058426141739, 0.09503617137670517, -0.018069522455334663, 0.050294555723667145, -0.03216587379574776, 0.02271416410803795, -0.015153847634792328, 0.024690542370080948, 0.03758283331990242, -0.0135775962844491, 0.0367121696472168, 0.02409665286540985, 0.013667897321283817, 0.06819307059049606, 0.023171313107013702, 0.0055398051626980305, -0.04125576838850975, 0.03213784098625183, -0.02808680757880211, -0.038556672632694244, -0.0519908107817173, 0.056998614221811295, 0.01968979835510254, -0.04199663922190666, -0.004276101011782885, 0.02383051998913288, -0.05054834112524986, -0.1454266607761383, -0.0027137778233736753, -0.011542893946170807, 0.02830537036061287, 0.11677214503288269, 0.025772588327527046, -0.06268220394849777, -0.011988960206508636, 0.0019913804717361927, -0.071978360414505, 0.05212777107954025, 0.0026142578572034836, -0.02035496011376381, -0.025461910292506218, -0.024309678003191948, 0.03663523122668266, -0.02209101989865303, 0.02798597142100334, 0.002919337246567011, -0.054970741271972656, -0.11622848361730576, 0.08154361695051193, 0.026219550520181656, 0.01775377430021763, 0.05841321125626564, 0.0139690563082695, -0.06276904046535492, -0.009335911832749844, 0.023832911625504494, 0.0034085402730852365, 0.04319582134485245, -0.09932097047567368, 0.09548170864582062, 0.007406916934996843, 0.021995028480887413, 0.06478951126337051, 0.04467363655567169, 0.0034474809654057026, 0.020920179784297943, 0.03794197365641594, 0.04710080474615097, 0.017352355644106865, 0.09746289998292923, 0.04500345140695572, -0.021166197955608368, -0.012682325206696987, -0.04047610983252525, 1.5494611943722703e-05, -0.06819500774145126, 0.06216384097933769, -0.05511337146162987, 3.952107516380535e-34, -0.06516706198453903, 0.06511606276035309, 0.03105252794921398, 0.03560816869139671, -0.027668824419379234, 0.058110758662223816, -0.01704045943915844, -0.09183778613805771, -0.004056548699736595, 0.017697107046842575, 0.002798929810523987, 0.008073212578892708, -0.0793069452047348, 0.01752687618136406, -0.07896706461906433, 0.010107184760272503, 0.05981222540140152, -0.08195740729570389, 0.0172232948243618, -0.024313831701874733, 0.025375541299581528, 0.08282312005758286, -0.042008642107248306, -0.008778000250458717, -0.03235789015889168, 0.020514462143182755, -0.012892493978142738, 0.0075016631744802, -0.04771824926137924, -0.022387797012925148, 0.03585485368967056, -0.057398974895477295, -0.10425703972578049, -0.029284285381436348, -0.07474350929260254, -0.05583253130316734, 0.021959442645311356, -0.06409841030836105, 0.04784337803721428, -0.0016362578608095646, 0.00130371970590204, -0.016911454498767853, 0.010166279040277004, 0.009767879731953144, 0.05414194241166115, -0.006999522913247347, 0.03192964941263199, -0.066949263215065, 0.0549851655960083, -0.021299690008163452, -0.04357030242681503, -0.01690324954688549, -0.10470674186944962, 0.01630456931889057, -0.103864386677742, 0.07320473343133926, 0.01199773047119379, -0.004675882402807474, 0.02705194614827633, -0.0031081472989171743, -0.02064775675535202, 0.025002755224704742, -0.010016774758696556, 0.027077114209532738, -0.022376649081707, 0.028783926740288734, 0.06926833838224411, -0.044282421469688416, 0.026735570281744003, -0.06824834644794464, -0.033836252987384796, -0.031577639281749725, 0.004721085075289011, -0.04171261936426163, -0.07988500595092773, 0.10985409468412399, -0.027613485231995583, -0.039505187422037125, 0.025255661457777023, -0.07537920027971268, 0.06501022726297379, 0.051067061722278595, 0.03685156628489494, 0.008208517916500568, -0.11143960058689117, -0.030971569940447807, 0.016042029485106468, -0.07393849641084671, -0.04974626377224922, -0.01235252246260643, -0.04219340533018112, 0.005247206427156925, 0.014036583714187145, 0.044485174119472504, 0.0038058143109083176, -3.134461934450883e-08, 0.048871878534555435, -0.015850303694605827, 0.1357824206352234, -0.03839275985956192, 0.053706493228673935, -0.017046988010406494, 0.05726198852062225, -0.010780864395201206, -0.009837107732892036, -0.020147519186139107, 0.09423689544200897, -0.021497104316949844, -0.10159601271152496, -0.012465736828744411, -0.033669281750917435, 0.0012788872700184584, -0.02373206987977028, 0.049273498356342316, -0.048192348331213, -0.06064855307340622, 0.024827023968100548, 0.056845687329769135, 0.07904121279716492, -0.026342354714870453, -0.020331352949142456, 0.01509061548858881, -0.021699732169508934, 0.11487618833780289, 0.014304691925644875, -0.007946527563035488, 0.0930015966296196, 0.03348015621304512, 0.05659813433885574, -0.017647720873355865, 0.03602169454097748, -0.0541205108165741, -0.08594237267971039, 0.06493222713470459, 0.016039595007896423, 0.010835153982043266, -0.06646516174077988, -0.08969087898731232, -0.013407111167907715, 0.10575196146965027, 0.05355594679713249, 0.05344155803322792, -0.17223098874092102, -0.03816112503409386, -0.04996577277779579, -0.09618698060512543, 0.11292935162782669, 0.03986375778913498, 0.0015478659188374877, -0.021862568333745003, -0.012854723259806633, -0.016222255304455757, 0.010407179594039917, -0.07156839966773987, -0.035610150545835495, -0.05478236451745033, 0.024966789409518242, -0.06616334617137909, 0.024928908795118332, -0.0184138435870409], [0.014102466404438019, -0.049528177827596664, 0.02371067926287651, -0.05734870210289955, -0.03957226127386093, -0.00825781561434269, 0.03952784091234207, 0.05348644033074379, 0.038675706833601, 0.05606739968061447, -0.03005335107445717, 0.004573454149067402, -0.034395452588796616, -0.01353123877197504, 0.018402159214019775, -0.0477500855922699, 0.01894194819033146, -0.08340373635292053, -0.007686409167945385, -0.014351923018693924, 0.06935551762580872, 0.004644070751965046, -0.11606436967849731, 0.0016054996522143483, 0.026763806119561195, 0.0010784728219732642, -0.027924858033657074, -0.00804201327264309, 0.013721877709031105, -0.03227736055850983, 0.003776480909436941, 0.07895942777395248, 0.12896068394184113, 0.0570184662938118, 0.02879382111132145, -0.03232606127858162, 0.00700942100957036, -0.02539776638150215, 0.01993844099342823, -0.023664262145757675, -0.0333394818007946, -0.09884294867515564, -0.1085759848356247, 0.020435212180018425, 0.0367790162563324, -0.01476007979363203, 0.005705648101866245, 0.012036829255521297, -0.04856850579380989, 0.09660781174898148, -0.07221169024705887, 0.01279412116855383, 0.030253585427999496, 0.05643651261925697, -0.014139261096715927, -0.022229310125112534, 0.051291290670633316, -0.0012820297852158546, 0.027555692940950394, 0.05265939608216286, -0.04905140772461891, -0.09174180030822754, -0.002674015238881111, 0.010890183970332146, 0.01795380190014839, 0.032325152307748795, 0.019750922918319702, -0.061896808445453644, -0.0852176770567894, -0.04638880863785744, -0.020957164466381073, -0.04784712567925453, -0.06683645397424698, -0.021359747275710106, -0.007267484441399574, 0.008261569775640965, 0.06971035152673721, 0.05278310179710388, 0.03185833990573883, -0.04633968695998192, -0.005397831555455923, 0.07654932886362076, -0.07310120016336441, 0.045959290117025375, -0.03423738479614258, -0.044813573360443115, 0.08365879207849503, -0.0032365317456424236, 0.05062946304678917, 0.030636398121714592, -0.0032713920809328556, 0.01100859884172678, 0.05756964534521103, -0.030606377869844437, -0.015951761975884438, -0.00885329581797123, -0.03984450176358223, -0.12745395302772522, 0.08375060558319092, -0.004456165246665478, 0.032908402383327484, 0.036401763558387756, 0.031130347400903702, -0.05647091194987297, -0.022249963134527206, 0.008919064886868, 0.04672238230705261, 0.06491351872682571, 0.009065298363566399, 0.005903301760554314, 0.00955645926296711, 0.0015396983362734318, -0.07757150381803513, -0.0781044289469719, 0.021647825837135315, -0.0050382232293486595, -0.05155238136649132, 0.051254671066999435, 0.07928982377052307, 0.08154763281345367, -0.007253014948219061, 0.018653273582458496, -0.006455537397414446, 0.029062340036034584, -0.07711971551179886, -0.022403839975595474, -0.11924625188112259, 4.4629420964173764e-33, -0.041313450783491135, -0.07394498586654663, -0.016926757991313934, -0.07509971410036087, -0.017691217362880707, 0.018828323110938072, -0.008901240304112434, 0.04127198085188866, -0.006234888918697834, -0.031232386827468872, -0.0459674671292305, 0.09739851206541061, 0.03487084433436394, 0.028516501188278198, 0.12976261973381042, -0.05658705160021782, -0.028161274269223213, 0.10797824710607529, 0.0420488566160202, -0.006580874789506197, 0.039369482547044754, -0.060355011373758316, 0.009270532988011837, -0.013464481569826603, 0.08423461765050888, -0.016764268279075623, -0.0052957553416490555, -0.025579113513231277, 0.04726148024201393, 0.016257012262940407, 0.04615771397948265, -0.008961188606917858, 0.13938374817371368, -0.019000865519046783, -0.005379111971706152, 0.04230448976159096, -0.025821542367339134, 0.017726413905620575, 0.05263330787420273, 0.008915667422115803, -0.03706368803977966, 0.023184064775705338, 0.07031591981649399, -0.066951222717762, -0.1096898689866066, -0.011500819586217403, 0.052402954548597336, 0.0332951657474041, 0.013493765145540237, 0.018401365727186203, -0.039716072380542755, 0.007122523616999388, 0.032540470361709595, -0.03541265055537224, -0.05283234268426895, 0.008640446700155735, 0.017374683171510696, -0.0673462525010109, 0.03761148825287819, 0.06870382279157639, -0.08539536595344543, -0.017726708203554153, 0.015873929485678673, -0.021648159250617027, -0.08986768126487732, 0.011743522249162197, 0.038714487105607986, 0.033529702574014664, 0.030428480356931686, 0.05723302438855171, -0.014985227957367897, -0.017689649015665054, 0.06266423314809799, 0.027230937033891678, -0.018946286290884018, -0.0036117390263825655, -0.05862797051668167, 0.0030248002149164677, -0.04841079190373421, 0.08399675041437149, -0.031150156632065773, 0.06036123260855675, 0.016384992748498917, -0.03849980980157852, 0.04114030301570892, 0.06081521883606911, 0.09245295077562332, 0.03482017293572426, -0.07967288792133331, 0.05661506578326225, -0.06237757205963135, -0.049907054752111435, -0.03704889491200447, 0.08063524961471558, 0.01776977628469467, -5.994021651653483e-33, -0.05243551358580589, 0.08908482640981674, -0.03351112827658653, 0.011501329019665718, -0.016171852126717567, 0.004759797360748053, 0.04533408582210541, 0.03742023557424545, -0.09116581082344055, 0.06321544200181961, -0.10166198760271072, 0.0322091281414032, -0.059882279485464096, 0.054844144731760025, -0.09263041615486145, -0.03598269075155258, -0.022395575419068336, -0.07965995371341705, 0.012820301577448845, -0.00812053307890892, -0.03941550850868225, 0.06481503695249557, 0.005282452795654535, 0.007282408885657787, 0.019618436694145203, 0.08016016334295273, -0.10947104543447495, 0.00973639078438282, 0.032141074538230896, 0.04530202969908714, -0.04627780616283417, -0.0449872724711895, -0.09718284010887146, -0.030365098267793655, 0.003330752020701766, -0.013657668605446815, -0.010972918942570686, -0.0026844406966120005, 0.06841561198234558, -0.05758661404252052, 0.07142958045005798, -0.07018346339464188, 0.020984185859560966, 0.011735284700989723, 0.04529633745551109, -0.018962064757943153, 0.02260051853954792, -0.006813780404627323, -0.06159226596355438, -0.056093912571668625, -0.053965773433446884, 0.06001681089401245, -0.05168699845671654, 0.05655807629227638, -0.06835450232028961, 0.03986949846148491, -0.003949077799916267, 0.003592869732528925, -0.06488922238349915, -0.042476098984479904, 0.027395498007535934, 0.00770178809762001, 0.046138640493154526, 0.05955719202756882, -0.015420123934745789, -0.01960306614637375, 0.10014714300632477, -0.08801574259996414, -0.043655212968587875, -0.08716154843568802, -0.0204132329672575, -0.008208335377275944, -0.02622663415968418, -0.09719253331422806, -0.05149918422102928, 0.09788254648447037, 0.009687168523669243, -0.022496748715639114, 0.023940537124872208, 0.030420327559113503, 0.01931167021393776, -0.003810719819739461, 0.010173584334552288, -0.005070761777460575, -0.08679188787937164, -0.06091348081827164, 0.06414363533258438, -0.028255680575966835, -0.057620689272880554, 0.07753240317106247, -0.16460740566253662, -0.017179330810904503, -0.07342275232076645, 0.04710837081074715, -0.0013091559521853924, -5.82614738675602e-08, 0.016858546063303947, 0.03582242876291275, 0.039834316819906235, 0.048572514206171036, 0.046069275587797165, -0.07265471667051315, -0.013053996488451958, 0.10545992851257324, -0.0030985588673502207, 0.019989611580967903, 0.05053042247891426, -0.09605349600315094, -0.06200941279530525, 0.07836176455020905, 0.002803558250889182, 0.06740902364253998, -0.015443246811628342, 0.01831206865608692, -0.015910040587186813, -0.018414726480841637, -0.0020392879378050566, 0.030630474910140038, 0.012156619690358639, 0.003824510145932436, -0.01670358143746853, 0.0003537851443979889, 0.04315575584769249, 0.09213639050722122, 0.016113173216581345, -0.0011971434578299522, -0.015382054261863232, 0.01669362559914589, -0.029070310294628143, -0.0023511310573667288, -0.004476998001337051, -0.08448737114667892, -0.12774933874607086, 0.03919423371553421, 0.008966546505689621, 0.06014159694314003, 0.016021225601434708, -0.009160489775240421, 0.03905857354402542, 0.052656058222055435, 0.07109338045120239, -0.03908645361661911, -0.17938241362571716, 0.025240294635295868, 0.022316936403512955, -0.06741398572921753, 0.04190085083246231, 0.005390613805502653, 0.0024066567420959473, 0.07071912288665771, 0.049111124128103256, -0.06874122470617294, 0.02988635003566742, -0.0378878228366375, -0.033963676542043686, 0.07196633517742157, 0.013887655921280384, -0.09657716006040573, -0.04403093457221985, -0.036517977714538574], [-1.470612914999947e-05, -0.00809564907103777, 0.031362973153591156, 0.025658652186393738, -0.031926482915878296, 0.07437557727098465, -0.04048456251621246, 0.09068489819765091, -0.05207112431526184, -0.0023884184192866087, 0.03248276188969612, 0.017160525545477867, -0.00350330863147974, -0.07959124445915222, -0.036002155393362045, -0.015263262204825878, -0.0021430852357298136, -0.015197565779089928, 0.04756981506943703, -0.01898352988064289, 0.09689905494451523, 0.04962332919239998, -0.03808935359120369, -0.015625588595867157, 0.06285631656646729, -0.00021195107547100633, -5.999609857099131e-05, 0.01877104490995407, 0.029083341360092163, -0.005506589077413082, -0.00038907703128643334, 0.02576877363026142, 0.014566401019692421, 0.03900695964694023, 0.016107609495520592, -0.00239560310728848, 0.054460421204566956, 0.07244326174259186, 0.029289349913597107, 0.012191876769065857, -0.014699719846248627, -0.07186361402273178, -0.06729431450366974, -0.009528234601020813, 0.003871160326525569, -0.0775805115699768, -0.005947943776845932, -0.019102739170193672, -0.00684502674266696, 0.094211645424366, -0.07183513790369034, 0.08146296441555023, 0.045050762593746185, 0.03178919479250908, 0.0029822092037647963, -0.04308294132351875, -0.005319675896316767, -0.02065865509212017, -0.03019755706191063, 0.01965714618563652, -0.019726501777768135, -0.05221925675868988, -0.0035353724379092455, -0.031071925535798073, 0.017480799928307533, -0.028842510655522346, -0.03252976015210152, 0.034130461513996124, -0.13015079498291016, -0.058474913239479065, -0.05546429380774498, -0.04005974531173706, -0.10725290328264236, -0.04797176644206047, -0.05041135102510452, 0.01301670540124178, 0.055898603051900864, 0.07882677763700485, -0.02038915641605854, -0.08112672716379166, 0.03113042749464512, 0.09078004211187363, -0.07773104310035706, 0.04241462051868439, -0.1004231795668602, -0.06841518729925156, 0.08407432585954666, 0.015217464417219162, 0.06860531121492386, 0.03644851967692375, 0.027917344123125076, -0.008484766818583012, -0.028874961659312248, -0.002860476728528738, -0.06493727117776871, -0.037763938307762146, -0.06257060915231705, -0.13448381423950195, 0.05672682449221611, 0.012744938023388386, 0.046499039977788925, 0.022883828729391098, 0.021965190768241882, -0.11796674132347107, -0.02193719893693924, -0.06935085356235504, 0.05706867203116417, 0.07718688249588013, -0.026566684246063232, -0.02249697782099247, 0.024946369230747223, 0.049991581588983536, -0.08304913341999054, -0.04535048454999924, 0.07515353709459305, -0.03657583147287369, -0.10025838762521744, -0.012913140468299389, 0.06498811393976212, 0.07022394239902496, 0.07147354632616043, 0.08611468225717545, 0.021407335996627808, 0.052028167992830276, -0.01692722737789154, -0.06699346750974655, -0.0892544537782669, 6.351498667288156e-33, 0.0506221279501915, 0.02339480258524418, 0.03429407998919487, -0.017422260716557503, -0.018508445471525192, 0.08619531989097595, 0.04591480270028114, -0.005403292365372181, -0.06281618028879166, 0.010866549797356129, -0.03113129921257496, 0.033552367240190506, -0.011335239745676517, 0.024715060368180275, 0.007862675003707409, 0.008874340914189816, -0.04886917024850845, 0.02289177104830742, 0.05494851619005203, 0.052017465233802795, 0.04640861228108406, -0.024377014487981796, 0.03716249018907547, 0.0004338420694693923, 0.05286760628223419, 0.022423721849918365, -0.06405293941497803, 0.024728672578930855, -0.012813461944460869, 0.003675898304209113, -0.012744060717523098, -0.024703223258256912, 0.08518870174884796, -0.030185241252183914, -0.03155355900526047, 0.021370911970734596, -0.04867444187402725, -0.03746779263019562, 0.00654679536819458, 0.05543893948197365, -0.024479711428284645, 0.04752623289823532, 0.08983293920755386, -0.04879197105765343, -0.06508006155490875, -0.024010242894291878, 0.07672423869371414, 0.05961069464683533, 0.0545051135122776, 0.013824042864143848, -0.05967644229531288, -0.016810940578579903, -0.006008199416100979, -0.06834284961223602, -0.018489889800548553, -0.012736786156892776, -0.02237550914287567, -0.07171431183815002, -0.001440963358618319, -0.01699858345091343, -0.027158532291650772, -0.044606491923332214, -0.05297894775867462, -0.054103147238492966, -0.07067321985960007, 0.09008404612541199, -0.009078134782612324, 0.021123666316270828, 0.10494498908519745, 0.03677581995725632, -0.0017645368352532387, -0.03417883813381195, 0.05008664354681969, 0.0011705649085342884, 0.08438687026500702, -0.008982864208519459, -0.048915497958660126, 0.013686002232134342, 0.052108947187662125, 0.04389313980937004, 0.056881409138441086, 0.03432004898786545, 0.010851960629224777, -0.03469095006585121, 0.06073349341750145, 0.07674447447061539, 0.07223810255527496, 0.06918957084417343, -0.013690934516489506, -0.0060512893833220005, -0.04212949424982071, -0.008157757110893726, -0.047111306339502335, 0.027991412207484245, -0.02874002791941166, -8.014038531222519e-33, -0.06254136562347412, 0.10145589709281921, 0.008376535959541798, 0.0035799280740320683, -0.016357069835066795, 0.04398983716964722, 0.07465485483407974, 0.035348303616046906, -0.053026191890239716, 0.024589568376541138, -0.011116228066384792, -0.014400236308574677, -0.006689581088721752, 0.024058371782302856, -0.10717939585447311, -0.00918438658118248, -0.00325885321944952, -0.007873106747865677, 0.04271493852138519, -0.10859687626361847, -0.01059851236641407, 0.20305098593235016, 0.06412231922149658, 0.09308949112892151, 0.026058215647935867, 0.058399345725774765, -0.1168004721403122, 0.052586622536182404, -0.04226328432559967, 0.016341600567102432, -0.00059094512835145, -0.0023138069082051516, -0.09445863217115402, -0.06502611190080643, -0.005641856696456671, -0.049374304711818695, -0.06863205879926682, -0.036514122039079666, 0.004885904025286436, 0.003264553612098098, 0.046302903443574905, -0.01834503933787346, 0.010125267319381237, 0.046736083924770355, 0.030054420232772827, -0.040293674916028976, 0.000649379042442888, -0.07519367337226868, 0.04815011844038963, 0.022011280059814453, -0.052629489451646805, 0.02752120979130268, -0.02544001303613186, 0.07319041341543198, -0.0419946126639843, -0.004382898565381765, 0.054920509457588196, 0.033201444894075394, -0.029263339936733246, -0.04871816188097, 0.03373977541923523, 0.05432027578353882, -0.00851424690335989, -0.011373062618076801, 0.038106828927993774, -0.10743925720453262, 0.05487416312098503, -0.04612348601222038, 0.04326285421848297, -0.07600761204957962, -0.05866583436727524, -0.08526218682527542, -0.027284344658255577, -0.14826440811157227, -0.01522173173725605, 0.13821376860141754, 0.029114972800016403, -0.034005891531705856, 0.0029426212422549725, 0.072138711810112, -0.01234564371407032, -0.03343435376882553, 0.06355484575033188, 0.05848462134599686, -0.0509994737803936, -0.049515534192323685, -0.05523402616381645, -0.027231663465499878, -0.021378854289650917, 0.09573563933372498, -0.13975727558135986, 0.01579931005835533, 0.03072815202176571, 0.04770366847515106, 0.04650767147541046, -7.228460674468806e-08, 0.03291962295770645, 0.03150446340441704, -0.013169126585125923, 0.06061895564198494, 0.014857415109872818, -0.08671809732913971, -0.035618316382169724, 0.05296390876173973, 0.0002892246702685952, -0.003936974797397852, 0.05701887235045433, -0.03345225751399994, -0.05524321272969246, 0.029563095420598984, -0.013746742159128189, 0.017795687541365623, -0.00013839184248354286, 0.01944154128432274, -0.012060250155627728, -0.060996461659669876, 0.023302357643842697, 0.036846742033958435, 0.01097180787473917, 0.001746573019772768, -0.020040864124894142, -0.034787505865097046, 0.03279845044016838, 0.06913933157920837, 0.028108159080147743, -0.02204565517604351, 0.043916720896959305, -0.06371238827705383, -0.0071349600329995155, -0.0033077728003263474, 0.002763337455689907, -0.03473341092467308, -0.05892324447631836, 0.043782684952020645, 0.03618647903203964, 0.054423294961452484, 0.0009281219099648297, -0.01626928336918354, 0.0069054667837917805, 0.05252820998430252, 0.033829133957624435, -0.0213174968957901, -0.1630098968744278, -0.046303898096084595, 0.00983357708901167, -0.09849557280540466, 0.046823155134916306, 0.0012855001259595156, -0.017014313489198685, -0.03581235930323601, 0.039947476238012314, -0.02716187946498394, 0.0051227533258497715, 0.05091490224003792, -0.06070700287818909, -0.07042320817708969, 0.015128432773053646, -0.08470198512077332, -0.03363034129142761, -0.06904458999633789]]\n",
      "\n",
      "documents:\n",
      "  Item 1: ['revenue, classified by significant product and service offerings, was as follows : ( in millions ) year ended june 30, 2022 2021 2020 server products and cloud services $ 67, 321 $ 52, 589 $ 41, 379 office products and cloud services 44, 862 39, 872 35, 316 windows 24, 761 22, 488 21, 510 gaming 16, 230 15, 370 11, 575 linkedin 13, 816 10, 289 8, 077 search and news advertising 11, 591 9, 267 8, 524 enterprise services 7, 407 6, 943 6, 409 devices 6, 991 6, 791 6, 457 other 5, 291 4, 479 3, 768 total $ 198, 270 $ 168, 088 $ 143, 015 we have recast certain previously reported amounts in the table above to conform to the way we internally manage and monitor our business.', '74 note 13 — unearned revenue unearned revenue by segment was as follows : ( in millions ) june 30, 2022 2021 productivity and business processes $ 24, 558 $ 22, 120 intelligent cloud 19, 371 17, 710 more personal computing 4, 479 4, 311 total $ 48, 408 $ 44, 141 changes in unearned revenue were as follows : ( in millions ) year ended june 30, 2022 balance, beginning of period $ 44, 141 deferral of revenue 110, 455 recognition of unearned revenue ( 106, 188 ) balance, end of period $ 48, 408 revenue allocated to remaining performance obligations, which includes unearned revenue and amounts that will be invoiced and recognized as revenue in future periods, was $ 193 billion as of june 30, 2022, of which $ 189 billion is related to the commercial portion of revenue. we expect to recognize approximately 45 % of this revenue over the next 12', 'that are not sold separately. • we tested the mathematical accuracy of management ’ s calculations of revenue and the associated timing of revenue recognized in the financial statements.', '82 in addition, certain costs incurred at a corporate level that are identifiable and that benefit our segments are allocated to them. these allocated costs include legal, including settlements and fines, information technology, human resources, finance, excise taxes, field selling, shared facilities services, and customer service and support. each allocation is measured differently based on the specific facts and circumstances of the costs being allocated. segment revenue and operating income were as follows during the periods presented : ( in millions ) year ended june 30, 2022 2021 2020 revenue productivity and business processes $ 63, 364 $ 53, 915 $ 46, 398 intelligent cloud 75, 251 60, 080 48, 366 more personal computing 59, 655 54, 093 48, 251 total $ 198, 270 $ 168, 088 $ 143, 015 operating income', '47 financial statements and supplementary data income statements ( in millions, except per share amounts ) year ended june 30, 2022 2021 2020 revenue : product $ 72, 732 $ 71, 074 $ 68, 041 service and other 125, 538 97, 014 74, 974 total revenue 198, 270 168, 088 143, 015 cost of revenue : product 19, 064 18, 219 16, 017 service and other 43, 586 34, 013 30, 061 total cost of revenue 62, 650 52, 232 46, 078 gross margin 135, 620 115, 856 96, 937 research and development 24, 512 20, 716 19, 269 sales and marketing 21, 825 20, 117 19, 598 general and administrative 5, 900 5, 107 5, 111 operating income 83, 383 69, 916 52, 959 other income, net 333 1, 186 77 income before income taxes 83, 716 71, 102 53, 036 provision for income taxes 10, 978 9, 831 8, 755']\n",
      "\n",
      "uris:\n",
      "  None\n",
      "\n",
      "data:\n",
      "  None\n",
      "\n",
      "included:\n",
      "  Item 1: documents\n",
      "  Item 2: embeddings\n",
      "  Item 3: distances\n",
      "\n",
      "revenue, classified by significant product and service offerings, was\n",
      "as follows : ( in millions ) year ended june 30, 2022 2021 2020 server\n",
      "products and cloud services $ 67, 321 $ 52, 589 $ 41, 379 office\n",
      "products and cloud services 44, 862 39, 872 35, 316 windows 24, 761 22,\n",
      "488 21, 510 gaming 16, 230 15, 370 11, 575 linkedin 13, 816 10, 289 8,\n",
      "077 search and news advertising 11, 591 9, 267 8, 524 enterprise\n",
      "services 7, 407 6, 943 6, 409 devices 6, 991 6, 791 6, 457 other 5, 291\n",
      "4, 479 3, 768 total $ 198, 270 $ 168, 088 $ 143, 015 we have recast\n",
      "certain previously reported amounts in the table above to conform to\n",
      "the way we internally manage and monitor our business.\n",
      "\n",
      "\n",
      "74 note 13 — unearned revenue unearned revenue by segment was as\n",
      "follows : ( in millions ) june 30, 2022 2021 productivity and business\n",
      "processes $ 24, 558 $ 22, 120 intelligent cloud 19, 371 17, 710 more\n",
      "personal computing 4, 479 4, 311 total $ 48, 408 $ 44, 141 changes in\n",
      "unearned revenue were as follows : ( in millions ) year ended june 30,\n",
      "2022 balance, beginning of period $ 44, 141 deferral of revenue 110,\n",
      "455 recognition of unearned revenue ( 106, 188 ) balance, end of period\n",
      "$ 48, 408 revenue allocated to remaining performance obligations, which\n",
      "includes unearned revenue and amounts that will be invoiced and\n",
      "recognized as revenue in future periods, was $ 193 billion as of june\n",
      "30, 2022, of which $ 189 billion is related to the commercial portion\n",
      "of revenue. we expect to recognize approximately 45 % of this revenue\n",
      "over the next 12\n",
      "\n",
      "\n",
      "that are not sold separately. • we tested the mathematical accuracy of\n",
      "management ’ s calculations of revenue and the associated timing of\n",
      "revenue recognized in the financial statements.\n",
      "\n",
      "\n",
      "82 in addition, certain costs incurred at a corporate level that are\n",
      "identifiable and that benefit our segments are allocated to them. these\n",
      "allocated costs include legal, including settlements and fines,\n",
      "information technology, human resources, finance, excise taxes, field\n",
      "selling, shared facilities services, and customer service and support.\n",
      "each allocation is measured differently based on the specific facts and\n",
      "circumstances of the costs being allocated. segment revenue and\n",
      "operating income were as follows during the periods presented : ( in\n",
      "millions ) year ended june 30, 2022 2021 2020 revenue productivity and\n",
      "business processes $ 63, 364 $ 53, 915 $ 46, 398 intelligent cloud 75,\n",
      "251 60, 080 48, 366 more personal computing 59, 655 54, 093 48, 251\n",
      "total $ 198, 270 $ 168, 088 $ 143, 015 operating income\n",
      "\n",
      "\n",
      "47 financial statements and supplementary data income statements ( in\n",
      "millions, except per share amounts ) year ended june 30, 2022 2021 2020\n",
      "revenue : product $ 72, 732 $ 71, 074 $ 68, 041 service and other 125,\n",
      "538 97, 014 74, 974 total revenue 198, 270 168, 088 143, 015 cost of\n",
      "revenue : product 19, 064 18, 219 16, 017 service and other 43, 586 34,\n",
      "013 30, 061 total cost of revenue 62, 650 52, 232 46, 078 gross margin\n",
      "135, 620 115, 856 96, 937 research and development 24, 512 20, 716 19,\n",
      "269 sales and marketing 21, 825 20, 117 19, 598 general and\n",
      "administrative 5, 900 5, 107 5, 111 operating income 83, 383 69, 916\n",
      "52, 959 other income, net 333 1, 186 77 income before income taxes 83,\n",
      "716 71, 102 53, 036 provision for income taxes 10, 978 9, 831 8, 755\n",
      "\n",
      "\n"
     ]
    }
   ],
   "source": [
    "query = \"What was the total revenue?\"\n",
    "\n",
    "results = chroma_collection.query(query_texts=query,\n",
    "                                   n_results=5, \n",
    "                                   include=['documents', 'embeddings', \"distances\"])\n",
    "\n",
    "retrieved_documents = results['documents'][0]\n",
    "\n",
    "from helper_utils import word_wrap\n",
    "print_results_and_documents(results, retrieved_documents, word_wrap)"
   ]
  },
  {
   "cell_type": "markdown",
   "id": "6d3bb32a",
   "metadata": {},
   "source": [
    "**Questions for understanding:**\n",
    "- what are the chromadb query output fields\n",
    "- how does a chromadb query find the documents\n",
    "- Can you explain how the similarity search works\n"
   ]
  },
  {
   "cell_type": "markdown",
   "id": "dd342cad",
   "metadata": {},
   "source": [
    "## Using the RAG documents in the LLM prompt"
   ]
  },
  {
   "cell_type": "markdown",
   "id": "c00e6e9b",
   "metadata": {},
   "source": [
    "### Setting up the LLM\n"
   ]
  },
  {
   "cell_type": "code",
   "execution_count": 36,
   "id": "fa87e46e",
   "metadata": {},
   "outputs": [],
   "source": [
    "from openai import OpenAI\n",
    "openai_client = OpenAI()"
   ]
  },
  {
   "cell_type": "markdown",
   "id": "ef444be4",
   "metadata": {},
   "source": [
    "## Mixing the retrieved documents in the prompt"
   ]
  },
  {
   "cell_type": "code",
   "execution_count": 37,
   "id": "ba0ed8ca-6640-4c09-9cb3-9de5e7cf46dc",
   "metadata": {
    "height": 336
   },
   "outputs": [],
   "source": [
    "def rag(query, retrieved_documents, model=\"gpt-3.5-turbo\"):\n",
    "    information = \"\\n\\n\".join(retrieved_documents)\n",
    "\n",
    "    messages = [\n",
    "        {\n",
    "            \"role\": \"system\",\n",
    "            \"content\": \"You are a helpful expert financial research assistant. Your users are asking questions about information contained in an annual report.\"\n",
    "            \"You will be shown the user's question, and the relevant information from the annual report. Answer the user's question using only this information.\"\n",
    "        },\n",
    "        {\"role\": \"user\", \"content\": f\"Question: {query}. \\n Information: {information}\"}\n",
    "    ]\n",
    "    \n",
    "    response = openai_client.chat.completions.create(\n",
    "        model=model,\n",
    "        messages=messages,\n",
    "    )\n",
    "    content = response.choices[0].message.content\n",
    "    return content"
   ]
  },
  {
   "cell_type": "code",
   "execution_count": 38,
   "id": "28bac3a2-0d29-48dc-9b48-2d9313239a25",
   "metadata": {
    "height": 64
   },
   "outputs": [],
   "source": [
    "output = rag(query=query, retrieved_documents=retrieved_documents)"
   ]
  },
  {
   "cell_type": "code",
   "execution_count": 39,
   "id": "7eca02f0",
   "metadata": {},
   "outputs": [
    {
     "name": "stdout",
     "output_type": "stream",
     "text": [
      "The total revenue for the year ended June 30, 2022, was $198,270\n",
      "million.\n"
     ]
    }
   ],
   "source": [
    "print(word_wrap(output))"
   ]
  }
 ],
 "metadata": {
  "kernelspec": {
   "display_name": "03-rag-graph-databases",
   "language": "python",
   "name": "03-rag-graph-databases"
  },
  "language_info": {
   "codemirror_mode": {
    "name": "ipython",
    "version": 3
   },
   "file_extension": ".py",
   "mimetype": "text/x-python",
   "name": "python",
   "nbconvert_exporter": "python",
   "pygments_lexer": "ipython3",
   "version": "3.12.5"
  }
 },
 "nbformat": 4,
 "nbformat_minor": 5
}
